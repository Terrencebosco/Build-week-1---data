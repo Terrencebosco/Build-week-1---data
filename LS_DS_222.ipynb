{
  "nbformat": 4,
  "nbformat_minor": 0,
  "metadata": {
    "kernelspec": {
      "display_name": "Python 3",
      "language": "python",
      "name": "python3"
    },
    "language_info": {
      "codemirror_mode": {
        "name": "ipython",
        "version": 3
      },
      "file_extension": ".py",
      "mimetype": "text/x-python",
      "name": "python",
      "nbconvert_exporter": "python",
      "pygments_lexer": "ipython3",
      "version": "3.7.3"
    },
    "colab": {
      "name": "LS_DS_222.ipynb",
      "provenance": []
    },
    "widgets": {
      "application/vnd.jupyter.widget-state+json": {
        "a52799a0b04744298421b668f1dd0d9e": {
          "model_module": "@jupyter-widgets/controls",
          "model_name": "VBoxModel",
          "state": {
            "_view_name": "VBoxView",
            "_dom_classes": [
              "widget-interact"
            ],
            "_model_name": "VBoxModel",
            "_view_module": "@jupyter-widgets/controls",
            "_model_module_version": "1.5.0",
            "_view_count": null,
            "_view_module_version": "1.5.0",
            "box_style": "",
            "layout": "IPY_MODEL_0da610e2b65a4fb3a2efe2b529766761",
            "_model_module": "@jupyter-widgets/controls",
            "children": [
              "IPY_MODEL_565afb1ada384cecb432e0e4a19b64e1",
              "IPY_MODEL_63ce0d1bc2644c24b60cc0e83c2e69cc",
              "IPY_MODEL_966c3d4520c94cf9bd98a0b200e011c7"
            ]
          }
        },
        "0da610e2b65a4fb3a2efe2b529766761": {
          "model_module": "@jupyter-widgets/base",
          "model_name": "LayoutModel",
          "state": {
            "_view_name": "LayoutView",
            "grid_template_rows": null,
            "right": null,
            "justify_content": null,
            "_view_module": "@jupyter-widgets/base",
            "overflow": null,
            "_model_module_version": "1.2.0",
            "_view_count": null,
            "flex_flow": null,
            "width": null,
            "min_width": null,
            "border": null,
            "align_items": null,
            "bottom": null,
            "_model_module": "@jupyter-widgets/base",
            "top": null,
            "grid_column": null,
            "overflow_y": null,
            "overflow_x": null,
            "grid_auto_flow": null,
            "grid_area": null,
            "grid_template_columns": null,
            "flex": null,
            "_model_name": "LayoutModel",
            "justify_items": null,
            "grid_row": null,
            "max_height": null,
            "align_content": null,
            "visibility": null,
            "align_self": null,
            "height": null,
            "min_height": null,
            "padding": null,
            "grid_auto_rows": null,
            "grid_gap": null,
            "max_width": null,
            "order": null,
            "_view_module_version": "1.2.0",
            "grid_template_areas": null,
            "object_position": null,
            "object_fit": null,
            "grid_auto_columns": null,
            "margin": null,
            "display": null,
            "left": null
          }
        },
        "565afb1ada384cecb432e0e4a19b64e1": {
          "model_module": "@jupyter-widgets/controls",
          "model_name": "IntSliderModel",
          "state": {
            "_view_name": "IntSliderView",
            "style": "IPY_MODEL_303a7f7b636a4717889e01123cbb66e6",
            "_dom_classes": [],
            "description": "max_depth",
            "step": 1,
            "_model_name": "IntSliderModel",
            "orientation": "horizontal",
            "max": 6,
            "_view_module": "@jupyter-widgets/controls",
            "_model_module_version": "1.5.0",
            "value": 1,
            "_view_count": null,
            "disabled": false,
            "_view_module_version": "1.5.0",
            "min": 1,
            "continuous_update": true,
            "readout_format": "d",
            "description_tooltip": null,
            "readout": true,
            "_model_module": "@jupyter-widgets/controls",
            "layout": "IPY_MODEL_5f6f40f843f7403ca3d373b4314bc89a"
          }
        },
        "63ce0d1bc2644c24b60cc0e83c2e69cc": {
          "model_module": "@jupyter-widgets/controls",
          "model_name": "IntSliderModel",
          "state": {
            "_view_name": "IntSliderView",
            "style": "IPY_MODEL_0b1ae977c6114522acf3091a47b9ee8c",
            "_dom_classes": [],
            "description": "n_estimators",
            "step": 10,
            "_model_name": "IntSliderModel",
            "orientation": "horizontal",
            "max": 40,
            "_view_module": "@jupyter-widgets/controls",
            "_model_module_version": "1.5.0",
            "value": 10,
            "_view_count": null,
            "disabled": false,
            "_view_module_version": "1.5.0",
            "min": 10,
            "continuous_update": true,
            "readout_format": "d",
            "description_tooltip": null,
            "readout": true,
            "_model_module": "@jupyter-widgets/controls",
            "layout": "IPY_MODEL_c09fa1b617834a5fb825a3d68548d920"
          }
        },
        "966c3d4520c94cf9bd98a0b200e011c7": {
          "model_module": "@jupyter-widgets/output",
          "model_name": "OutputModel",
          "state": {
            "_view_name": "OutputView",
            "msg_id": "",
            "_dom_classes": [],
            "_model_name": "OutputModel",
            "outputs": [
              {
                "output_type": "display_data",
                "metadata": {
                  "tags": [],
                  "needs_background": "light"
                },
                "image/png": "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\n",
                "text/plain": "<Figure size 432x288 with 1 Axes>"
              },
              {
                "output_type": "display_data",
                "metadata": {
                  "tags": [],
                  "needs_background": "light"
                },
                "image/png": "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\n",
                "text/plain": "<Figure size 432x288 with 1 Axes>"
              }
            ],
            "_view_module": "@jupyter-widgets/output",
            "_model_module_version": "1.0.0",
            "_view_count": null,
            "_view_module_version": "1.0.0",
            "layout": "IPY_MODEL_a33f8155513f47d5ae25be513487348c",
            "_model_module": "@jupyter-widgets/output"
          }
        },
        "303a7f7b636a4717889e01123cbb66e6": {
          "model_module": "@jupyter-widgets/controls",
          "model_name": "SliderStyleModel",
          "state": {
            "_view_name": "StyleView",
            "handle_color": null,
            "_model_name": "SliderStyleModel",
            "description_width": "",
            "_view_module": "@jupyter-widgets/base",
            "_model_module_version": "1.5.0",
            "_view_count": null,
            "_view_module_version": "1.2.0",
            "_model_module": "@jupyter-widgets/controls"
          }
        },
        "5f6f40f843f7403ca3d373b4314bc89a": {
          "model_module": "@jupyter-widgets/base",
          "model_name": "LayoutModel",
          "state": {
            "_view_name": "LayoutView",
            "grid_template_rows": null,
            "right": null,
            "justify_content": null,
            "_view_module": "@jupyter-widgets/base",
            "overflow": null,
            "_model_module_version": "1.2.0",
            "_view_count": null,
            "flex_flow": null,
            "width": null,
            "min_width": null,
            "border": null,
            "align_items": null,
            "bottom": null,
            "_model_module": "@jupyter-widgets/base",
            "top": null,
            "grid_column": null,
            "overflow_y": null,
            "overflow_x": null,
            "grid_auto_flow": null,
            "grid_area": null,
            "grid_template_columns": null,
            "flex": null,
            "_model_name": "LayoutModel",
            "justify_items": null,
            "grid_row": null,
            "max_height": null,
            "align_content": null,
            "visibility": null,
            "align_self": null,
            "height": null,
            "min_height": null,
            "padding": null,
            "grid_auto_rows": null,
            "grid_gap": null,
            "max_width": null,
            "order": null,
            "_view_module_version": "1.2.0",
            "grid_template_areas": null,
            "object_position": null,
            "object_fit": null,
            "grid_auto_columns": null,
            "margin": null,
            "display": null,
            "left": null
          }
        },
        "0b1ae977c6114522acf3091a47b9ee8c": {
          "model_module": "@jupyter-widgets/controls",
          "model_name": "SliderStyleModel",
          "state": {
            "_view_name": "StyleView",
            "handle_color": null,
            "_model_name": "SliderStyleModel",
            "description_width": "",
            "_view_module": "@jupyter-widgets/base",
            "_model_module_version": "1.5.0",
            "_view_count": null,
            "_view_module_version": "1.2.0",
            "_model_module": "@jupyter-widgets/controls"
          }
        },
        "c09fa1b617834a5fb825a3d68548d920": {
          "model_module": "@jupyter-widgets/base",
          "model_name": "LayoutModel",
          "state": {
            "_view_name": "LayoutView",
            "grid_template_rows": null,
            "right": null,
            "justify_content": null,
            "_view_module": "@jupyter-widgets/base",
            "overflow": null,
            "_model_module_version": "1.2.0",
            "_view_count": null,
            "flex_flow": null,
            "width": null,
            "min_width": null,
            "border": null,
            "align_items": null,
            "bottom": null,
            "_model_module": "@jupyter-widgets/base",
            "top": null,
            "grid_column": null,
            "overflow_y": null,
            "overflow_x": null,
            "grid_auto_flow": null,
            "grid_area": null,
            "grid_template_columns": null,
            "flex": null,
            "_model_name": "LayoutModel",
            "justify_items": null,
            "grid_row": null,
            "max_height": null,
            "align_content": null,
            "visibility": null,
            "align_self": null,
            "height": null,
            "min_height": null,
            "padding": null,
            "grid_auto_rows": null,
            "grid_gap": null,
            "max_width": null,
            "order": null,
            "_view_module_version": "1.2.0",
            "grid_template_areas": null,
            "object_position": null,
            "object_fit": null,
            "grid_auto_columns": null,
            "margin": null,
            "display": null,
            "left": null
          }
        },
        "a33f8155513f47d5ae25be513487348c": {
          "model_module": "@jupyter-widgets/base",
          "model_name": "LayoutModel",
          "state": {
            "_view_name": "LayoutView",
            "grid_template_rows": null,
            "right": null,
            "justify_content": null,
            "_view_module": "@jupyter-widgets/base",
            "overflow": null,
            "_model_module_version": "1.2.0",
            "_view_count": null,
            "flex_flow": null,
            "width": null,
            "min_width": null,
            "border": null,
            "align_items": null,
            "bottom": null,
            "_model_module": "@jupyter-widgets/base",
            "top": null,
            "grid_column": null,
            "overflow_y": null,
            "overflow_x": null,
            "grid_auto_flow": null,
            "grid_area": null,
            "grid_template_columns": null,
            "flex": null,
            "_model_name": "LayoutModel",
            "justify_items": null,
            "grid_row": null,
            "max_height": null,
            "align_content": null,
            "visibility": null,
            "align_self": null,
            "height": null,
            "min_height": null,
            "padding": null,
            "grid_auto_rows": null,
            "grid_gap": null,
            "max_width": null,
            "order": null,
            "_view_module_version": "1.2.0",
            "grid_template_areas": null,
            "object_position": null,
            "object_fit": null,
            "grid_auto_columns": null,
            "margin": null,
            "display": null,
            "left": null
          }
        },
        "02094557f2174e93a6b71c55e2ff3e20": {
          "model_module": "@jupyter-widgets/controls",
          "model_name": "VBoxModel",
          "state": {
            "_view_name": "VBoxView",
            "_dom_classes": [
              "widget-interact"
            ],
            "_model_name": "VBoxModel",
            "_view_module": "@jupyter-widgets/controls",
            "_model_module_version": "1.5.0",
            "_view_count": null,
            "_view_module_version": "1.5.0",
            "box_style": "",
            "layout": "IPY_MODEL_bd9895957e804990bb756f0fc47ce390",
            "_model_module": "@jupyter-widgets/controls",
            "children": [
              "IPY_MODEL_70b1bcfe276e454692ed83ad14e47bde",
              "IPY_MODEL_83ff71ada61b4eb6b64e032e9e35ad3a",
              "IPY_MODEL_be4f788930214378bcee8a2b6c92bf32"
            ]
          }
        },
        "bd9895957e804990bb756f0fc47ce390": {
          "model_module": "@jupyter-widgets/base",
          "model_name": "LayoutModel",
          "state": {
            "_view_name": "LayoutView",
            "grid_template_rows": null,
            "right": null,
            "justify_content": null,
            "_view_module": "@jupyter-widgets/base",
            "overflow": null,
            "_model_module_version": "1.2.0",
            "_view_count": null,
            "flex_flow": null,
            "width": null,
            "min_width": null,
            "border": null,
            "align_items": null,
            "bottom": null,
            "_model_module": "@jupyter-widgets/base",
            "top": null,
            "grid_column": null,
            "overflow_y": null,
            "overflow_x": null,
            "grid_auto_flow": null,
            "grid_area": null,
            "grid_template_columns": null,
            "flex": null,
            "_model_name": "LayoutModel",
            "justify_items": null,
            "grid_row": null,
            "max_height": null,
            "align_content": null,
            "visibility": null,
            "align_self": null,
            "height": null,
            "min_height": null,
            "padding": null,
            "grid_auto_rows": null,
            "grid_gap": null,
            "max_width": null,
            "order": null,
            "_view_module_version": "1.2.0",
            "grid_template_areas": null,
            "object_position": null,
            "object_fit": null,
            "grid_auto_columns": null,
            "margin": null,
            "display": null,
            "left": null
          }
        },
        "70b1bcfe276e454692ed83ad14e47bde": {
          "model_module": "@jupyter-widgets/controls",
          "model_name": "IntSliderModel",
          "state": {
            "_view_name": "IntSliderView",
            "style": "IPY_MODEL_82af01f422a74ea59e07a722da2819e4",
            "_dom_classes": [],
            "description": "max_depth",
            "step": 1,
            "_model_name": "IntSliderModel",
            "orientation": "horizontal",
            "max": 6,
            "_view_module": "@jupyter-widgets/controls",
            "_model_module_version": "1.5.0",
            "value": 1,
            "_view_count": null,
            "disabled": false,
            "_view_module_version": "1.5.0",
            "min": 1,
            "continuous_update": true,
            "readout_format": "d",
            "description_tooltip": null,
            "readout": true,
            "_model_module": "@jupyter-widgets/controls",
            "layout": "IPY_MODEL_cdd28e363cc04e0e9bd8765917909f04"
          }
        },
        "83ff71ada61b4eb6b64e032e9e35ad3a": {
          "model_module": "@jupyter-widgets/controls",
          "model_name": "IntSliderModel",
          "state": {
            "_view_name": "IntSliderView",
            "style": "IPY_MODEL_571a57a42e3544839fae8ceba105cd76",
            "_dom_classes": [],
            "description": "n_estimators",
            "step": 10,
            "_model_name": "IntSliderModel",
            "orientation": "horizontal",
            "max": 40,
            "_view_module": "@jupyter-widgets/controls",
            "_model_module_version": "1.5.0",
            "value": 10,
            "_view_count": null,
            "disabled": false,
            "_view_module_version": "1.5.0",
            "min": 10,
            "continuous_update": true,
            "readout_format": "d",
            "description_tooltip": null,
            "readout": true,
            "_model_module": "@jupyter-widgets/controls",
            "layout": "IPY_MODEL_513aeb99f1f64381a3b53e4afe6dd201"
          }
        },
        "be4f788930214378bcee8a2b6c92bf32": {
          "model_module": "@jupyter-widgets/output",
          "model_name": "OutputModel",
          "state": {
            "_view_name": "OutputView",
            "msg_id": "",
            "_dom_classes": [],
            "_model_name": "OutputModel",
            "outputs": [
              {
                "output_type": "display_data",
                "metadata": {
                  "tags": [],
                  "needs_background": "light"
                },
                "image/png": "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\n",
                "text/plain": "<Figure size 432x288 with 2 Axes>"
              },
              {
                "output_type": "display_data",
                "metadata": {
                  "tags": [],
                  "needs_background": "light"
                },
                "image/png": "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\n",
                "text/plain": "<Figure size 432x288 with 2 Axes>"
              },
              {
                "output_type": "display_data",
                "metadata": {
                  "tags": [],
                  "needs_background": "light"
                },
                "image/png": "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\n",
                "text/plain": "<Figure size 432x288 with 2 Axes>"
              }
            ],
            "_view_module": "@jupyter-widgets/output",
            "_model_module_version": "1.0.0",
            "_view_count": null,
            "_view_module_version": "1.0.0",
            "layout": "IPY_MODEL_14177cb0c9754334a03b9c4790caf016",
            "_model_module": "@jupyter-widgets/output"
          }
        },
        "82af01f422a74ea59e07a722da2819e4": {
          "model_module": "@jupyter-widgets/controls",
          "model_name": "SliderStyleModel",
          "state": {
            "_view_name": "StyleView",
            "handle_color": null,
            "_model_name": "SliderStyleModel",
            "description_width": "",
            "_view_module": "@jupyter-widgets/base",
            "_model_module_version": "1.5.0",
            "_view_count": null,
            "_view_module_version": "1.2.0",
            "_model_module": "@jupyter-widgets/controls"
          }
        },
        "cdd28e363cc04e0e9bd8765917909f04": {
          "model_module": "@jupyter-widgets/base",
          "model_name": "LayoutModel",
          "state": {
            "_view_name": "LayoutView",
            "grid_template_rows": null,
            "right": null,
            "justify_content": null,
            "_view_module": "@jupyter-widgets/base",
            "overflow": null,
            "_model_module_version": "1.2.0",
            "_view_count": null,
            "flex_flow": null,
            "width": null,
            "min_width": null,
            "border": null,
            "align_items": null,
            "bottom": null,
            "_model_module": "@jupyter-widgets/base",
            "top": null,
            "grid_column": null,
            "overflow_y": null,
            "overflow_x": null,
            "grid_auto_flow": null,
            "grid_area": null,
            "grid_template_columns": null,
            "flex": null,
            "_model_name": "LayoutModel",
            "justify_items": null,
            "grid_row": null,
            "max_height": null,
            "align_content": null,
            "visibility": null,
            "align_self": null,
            "height": null,
            "min_height": null,
            "padding": null,
            "grid_auto_rows": null,
            "grid_gap": null,
            "max_width": null,
            "order": null,
            "_view_module_version": "1.2.0",
            "grid_template_areas": null,
            "object_position": null,
            "object_fit": null,
            "grid_auto_columns": null,
            "margin": null,
            "display": null,
            "left": null
          }
        },
        "571a57a42e3544839fae8ceba105cd76": {
          "model_module": "@jupyter-widgets/controls",
          "model_name": "SliderStyleModel",
          "state": {
            "_view_name": "StyleView",
            "handle_color": null,
            "_model_name": "SliderStyleModel",
            "description_width": "",
            "_view_module": "@jupyter-widgets/base",
            "_model_module_version": "1.5.0",
            "_view_count": null,
            "_view_module_version": "1.2.0",
            "_model_module": "@jupyter-widgets/controls"
          }
        },
        "513aeb99f1f64381a3b53e4afe6dd201": {
          "model_module": "@jupyter-widgets/base",
          "model_name": "LayoutModel",
          "state": {
            "_view_name": "LayoutView",
            "grid_template_rows": null,
            "right": null,
            "justify_content": null,
            "_view_module": "@jupyter-widgets/base",
            "overflow": null,
            "_model_module_version": "1.2.0",
            "_view_count": null,
            "flex_flow": null,
            "width": null,
            "min_width": null,
            "border": null,
            "align_items": null,
            "bottom": null,
            "_model_module": "@jupyter-widgets/base",
            "top": null,
            "grid_column": null,
            "overflow_y": null,
            "overflow_x": null,
            "grid_auto_flow": null,
            "grid_area": null,
            "grid_template_columns": null,
            "flex": null,
            "_model_name": "LayoutModel",
            "justify_items": null,
            "grid_row": null,
            "max_height": null,
            "align_content": null,
            "visibility": null,
            "align_self": null,
            "height": null,
            "min_height": null,
            "padding": null,
            "grid_auto_rows": null,
            "grid_gap": null,
            "max_width": null,
            "order": null,
            "_view_module_version": "1.2.0",
            "grid_template_areas": null,
            "object_position": null,
            "object_fit": null,
            "grid_auto_columns": null,
            "margin": null,
            "display": null,
            "left": null
          }
        },
        "14177cb0c9754334a03b9c4790caf016": {
          "model_module": "@jupyter-widgets/base",
          "model_name": "LayoutModel",
          "state": {
            "_view_name": "LayoutView",
            "grid_template_rows": null,
            "right": null,
            "justify_content": null,
            "_view_module": "@jupyter-widgets/base",
            "overflow": null,
            "_model_module_version": "1.2.0",
            "_view_count": null,
            "flex_flow": null,
            "width": null,
            "min_width": null,
            "border": null,
            "align_items": null,
            "bottom": null,
            "_model_module": "@jupyter-widgets/base",
            "top": null,
            "grid_column": null,
            "overflow_y": null,
            "overflow_x": null,
            "grid_auto_flow": null,
            "grid_area": null,
            "grid_template_columns": null,
            "flex": null,
            "_model_name": "LayoutModel",
            "justify_items": null,
            "grid_row": null,
            "max_height": null,
            "align_content": null,
            "visibility": null,
            "align_self": null,
            "height": null,
            "min_height": null,
            "padding": null,
            "grid_auto_rows": null,
            "grid_gap": null,
            "max_width": null,
            "order": null,
            "_view_module_version": "1.2.0",
            "grid_template_areas": null,
            "object_position": null,
            "object_fit": null,
            "grid_auto_columns": null,
            "margin": null,
            "display": null,
            "left": null
          }
        },
        "35e2302c2afe4d249a1b1cf2cc72303d": {
          "model_module": "@jupyter-widgets/controls",
          "model_name": "VBoxModel",
          "state": {
            "_view_name": "VBoxView",
            "_dom_classes": [
              "widget-interact"
            ],
            "_model_name": "VBoxModel",
            "_view_module": "@jupyter-widgets/controls",
            "_model_module_version": "1.5.0",
            "_view_count": null,
            "_view_module_version": "1.5.0",
            "box_style": "",
            "layout": "IPY_MODEL_fa70774da44148debd9edd19a25d5455",
            "_model_module": "@jupyter-widgets/controls",
            "children": [
              "IPY_MODEL_56bfe009074b43e797b11e333ab6d4c3",
              "IPY_MODEL_7b97ac92479f44b0bae281e00369f122",
              "IPY_MODEL_4627ba4f976641979826c2efaa47d816"
            ]
          }
        },
        "fa70774da44148debd9edd19a25d5455": {
          "model_module": "@jupyter-widgets/base",
          "model_name": "LayoutModel",
          "state": {
            "_view_name": "LayoutView",
            "grid_template_rows": null,
            "right": null,
            "justify_content": null,
            "_view_module": "@jupyter-widgets/base",
            "overflow": null,
            "_model_module_version": "1.2.0",
            "_view_count": null,
            "flex_flow": null,
            "width": null,
            "min_width": null,
            "border": null,
            "align_items": null,
            "bottom": null,
            "_model_module": "@jupyter-widgets/base",
            "top": null,
            "grid_column": null,
            "overflow_y": null,
            "overflow_x": null,
            "grid_auto_flow": null,
            "grid_area": null,
            "grid_template_columns": null,
            "flex": null,
            "_model_name": "LayoutModel",
            "justify_items": null,
            "grid_row": null,
            "max_height": null,
            "align_content": null,
            "visibility": null,
            "align_self": null,
            "height": null,
            "min_height": null,
            "padding": null,
            "grid_auto_rows": null,
            "grid_gap": null,
            "max_width": null,
            "order": null,
            "_view_module_version": "1.2.0",
            "grid_template_areas": null,
            "object_position": null,
            "object_fit": null,
            "grid_auto_columns": null,
            "margin": null,
            "display": null,
            "left": null
          }
        },
        "56bfe009074b43e797b11e333ab6d4c3": {
          "model_module": "@jupyter-widgets/controls",
          "model_name": "IntSliderModel",
          "state": {
            "_view_name": "IntSliderView",
            "style": "IPY_MODEL_9894f99378a74ec1a12d8fbc4e9b196e",
            "_dom_classes": [],
            "description": "max_depth",
            "step": 1,
            "_model_name": "IntSliderModel",
            "orientation": "horizontal",
            "max": 6,
            "_view_module": "@jupyter-widgets/controls",
            "_model_module_version": "1.5.0",
            "value": 1,
            "_view_count": null,
            "disabled": false,
            "_view_module_version": "1.5.0",
            "min": 1,
            "continuous_update": true,
            "readout_format": "d",
            "description_tooltip": null,
            "readout": true,
            "_model_module": "@jupyter-widgets/controls",
            "layout": "IPY_MODEL_3b39acaf32454d78866bd71d198ad78c"
          }
        },
        "7b97ac92479f44b0bae281e00369f122": {
          "model_module": "@jupyter-widgets/controls",
          "model_name": "IntSliderModel",
          "state": {
            "_view_name": "IntSliderView",
            "style": "IPY_MODEL_7163cdaa426b4e68be208da238723bd9",
            "_dom_classes": [],
            "description": "n_estimators",
            "step": 1,
            "_model_name": "IntSliderModel",
            "orientation": "horizontal",
            "max": 5,
            "_view_module": "@jupyter-widgets/controls",
            "_model_module_version": "1.5.0",
            "value": 2,
            "_view_count": null,
            "disabled": false,
            "_view_module_version": "1.5.0",
            "min": 2,
            "continuous_update": true,
            "readout_format": "d",
            "description_tooltip": null,
            "readout": true,
            "_model_module": "@jupyter-widgets/controls",
            "layout": "IPY_MODEL_7d6d006afa6d4952b6bfb3431bfcb9d7"
          }
        },
        "4627ba4f976641979826c2efaa47d816": {
          "model_module": "@jupyter-widgets/output",
          "model_name": "OutputModel",
          "state": {
            "_view_name": "OutputView",
            "msg_id": "",
            "_dom_classes": [],
            "_model_name": "OutputModel",
            "outputs": [
              {
                "output_type": "display_data",
                "metadata": {
                  "tags": [],
                  "needs_background": "light"
                },
                "image/png": "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\n",
                "text/plain": "<Figure size 432x288 with 2 Axes>"
              },
              {
                "output_type": "display_data",
                "metadata": {
                  "tags": [],
                  "needs_background": "light"
                },
                "image/png": "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\n",
                "text/plain": "<Figure size 432x288 with 2 Axes>"
              },
              {
                "output_type": "display_data",
                "metadata": {
                  "tags": [],
                  "needs_background": "light"
                },
                "image/png": "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\n",
                "text/plain": "<Figure size 432x288 with 2 Axes>"
              }
            ],
            "_view_module": "@jupyter-widgets/output",
            "_model_module_version": "1.0.0",
            "_view_count": null,
            "_view_module_version": "1.0.0",
            "layout": "IPY_MODEL_2aaff988d74b4db09284e9ebcfa466e5",
            "_model_module": "@jupyter-widgets/output"
          }
        },
        "9894f99378a74ec1a12d8fbc4e9b196e": {
          "model_module": "@jupyter-widgets/controls",
          "model_name": "SliderStyleModel",
          "state": {
            "_view_name": "StyleView",
            "handle_color": null,
            "_model_name": "SliderStyleModel",
            "description_width": "",
            "_view_module": "@jupyter-widgets/base",
            "_model_module_version": "1.5.0",
            "_view_count": null,
            "_view_module_version": "1.2.0",
            "_model_module": "@jupyter-widgets/controls"
          }
        },
        "3b39acaf32454d78866bd71d198ad78c": {
          "model_module": "@jupyter-widgets/base",
          "model_name": "LayoutModel",
          "state": {
            "_view_name": "LayoutView",
            "grid_template_rows": null,
            "right": null,
            "justify_content": null,
            "_view_module": "@jupyter-widgets/base",
            "overflow": null,
            "_model_module_version": "1.2.0",
            "_view_count": null,
            "flex_flow": null,
            "width": null,
            "min_width": null,
            "border": null,
            "align_items": null,
            "bottom": null,
            "_model_module": "@jupyter-widgets/base",
            "top": null,
            "grid_column": null,
            "overflow_y": null,
            "overflow_x": null,
            "grid_auto_flow": null,
            "grid_area": null,
            "grid_template_columns": null,
            "flex": null,
            "_model_name": "LayoutModel",
            "justify_items": null,
            "grid_row": null,
            "max_height": null,
            "align_content": null,
            "visibility": null,
            "align_self": null,
            "height": null,
            "min_height": null,
            "padding": null,
            "grid_auto_rows": null,
            "grid_gap": null,
            "max_width": null,
            "order": null,
            "_view_module_version": "1.2.0",
            "grid_template_areas": null,
            "object_position": null,
            "object_fit": null,
            "grid_auto_columns": null,
            "margin": null,
            "display": null,
            "left": null
          }
        },
        "7163cdaa426b4e68be208da238723bd9": {
          "model_module": "@jupyter-widgets/controls",
          "model_name": "SliderStyleModel",
          "state": {
            "_view_name": "StyleView",
            "handle_color": null,
            "_model_name": "SliderStyleModel",
            "description_width": "",
            "_view_module": "@jupyter-widgets/base",
            "_model_module_version": "1.5.0",
            "_view_count": null,
            "_view_module_version": "1.2.0",
            "_model_module": "@jupyter-widgets/controls"
          }
        },
        "7d6d006afa6d4952b6bfb3431bfcb9d7": {
          "model_module": "@jupyter-widgets/base",
          "model_name": "LayoutModel",
          "state": {
            "_view_name": "LayoutView",
            "grid_template_rows": null,
            "right": null,
            "justify_content": null,
            "_view_module": "@jupyter-widgets/base",
            "overflow": null,
            "_model_module_version": "1.2.0",
            "_view_count": null,
            "flex_flow": null,
            "width": null,
            "min_width": null,
            "border": null,
            "align_items": null,
            "bottom": null,
            "_model_module": "@jupyter-widgets/base",
            "top": null,
            "grid_column": null,
            "overflow_y": null,
            "overflow_x": null,
            "grid_auto_flow": null,
            "grid_area": null,
            "grid_template_columns": null,
            "flex": null,
            "_model_name": "LayoutModel",
            "justify_items": null,
            "grid_row": null,
            "max_height": null,
            "align_content": null,
            "visibility": null,
            "align_self": null,
            "height": null,
            "min_height": null,
            "padding": null,
            "grid_auto_rows": null,
            "grid_gap": null,
            "max_width": null,
            "order": null,
            "_view_module_version": "1.2.0",
            "grid_template_areas": null,
            "object_position": null,
            "object_fit": null,
            "grid_auto_columns": null,
            "margin": null,
            "display": null,
            "left": null
          }
        },
        "2aaff988d74b4db09284e9ebcfa466e5": {
          "model_module": "@jupyter-widgets/base",
          "model_name": "LayoutModel",
          "state": {
            "_view_name": "LayoutView",
            "grid_template_rows": null,
            "right": null,
            "justify_content": null,
            "_view_module": "@jupyter-widgets/base",
            "overflow": null,
            "_model_module_version": "1.2.0",
            "_view_count": null,
            "flex_flow": null,
            "width": null,
            "min_width": null,
            "border": null,
            "align_items": null,
            "bottom": null,
            "_model_module": "@jupyter-widgets/base",
            "top": null,
            "grid_column": null,
            "overflow_y": null,
            "overflow_x": null,
            "grid_auto_flow": null,
            "grid_area": null,
            "grid_template_columns": null,
            "flex": null,
            "_model_name": "LayoutModel",
            "justify_items": null,
            "grid_row": null,
            "max_height": null,
            "align_content": null,
            "visibility": null,
            "align_self": null,
            "height": null,
            "min_height": null,
            "padding": null,
            "grid_auto_rows": null,
            "grid_gap": null,
            "max_width": null,
            "order": null,
            "_view_module_version": "1.2.0",
            "grid_template_areas": null,
            "object_position": null,
            "object_fit": null,
            "grid_auto_columns": null,
            "margin": null,
            "display": null,
            "left": null
          }
        }
      }
    }
  },
  "cells": [
    {
      "cell_type": "markdown",
      "metadata": {
        "colab_type": "text",
        "id": "UEHyIgGaaSEJ"
      },
      "source": [
        "Lambda School Data Science\n",
        "\n",
        "*Unit 2, Sprint 2, Module 2*\n",
        "\n",
        "---"
      ]
    },
    {
      "cell_type": "markdown",
      "metadata": {
        "colab_type": "text",
        "id": "mRfPLX4WgLVJ"
      },
      "source": [
        "# Random Forests"
      ]
    },
    {
      "cell_type": "markdown",
      "metadata": {
        "colab_type": "text",
        "id": "jRRNhkxcgLVK"
      },
      "source": [
        "- use scikit-learn for **random forests**\n",
        "- do **ordinal encoding** with high-cardinality categoricals\n",
        "- understand how categorical encodings affect trees differently compared to linear models\n",
        "- understand how tree ensembles reduce overfitting compared to a single decision tree with unlimited depth"
      ]
    },
    {
      "cell_type": "markdown",
      "metadata": {
        "colab_type": "text",
        "id": "-3TH11e1gLVL"
      },
      "source": [
        "Today's lesson has two take-away messages:\n",
        "\n",
        "#### Try Tree Ensembles when you do machine learning with labeled, tabular data\n",
        "- \"Tree Ensembles\" means Random Forest or Gradient Boosting models. \n",
        "- [Tree Ensembles often have the best predictive accuracy](https://arxiv.org/abs/1708.05070) with labeled, tabular data.\n",
        "- Why? Because trees can fit non-linear, non-[monotonic](https://en.wikipedia.org/wiki/Monotonic_function) relationships, and [interactions](https://christophm.github.io/interpretable-ml-book/interaction.html) between features.\n",
        "- A single decision tree, grown to unlimited depth, will [overfit](http://www.r2d3.us/visual-intro-to-machine-learning-part-1/). We solve this problem by ensembling trees, with bagging (Random Forest) or boosting (Gradient Boosting).\n",
        "- Random Forest's advantage: may be less sensitive to hyperparameters. Gradient Boosting's advantage: may get better predictive accuracy.\n",
        "\n",
        "#### One-hot encoding isn’t the only way, and may not be the best way, of categorical encoding for tree ensembles.\n",
        "- For example, tree ensembles can work with arbitrary \"ordinal\" encoding! (Randomly assigning an integer to each category.) Compared to one-hot encoding, the dimensionality will be lower, and the predictive accuracy may be just as good or even better.\n"
      ]
    },
    {
      "cell_type": "markdown",
      "metadata": {
        "colab_type": "text",
        "id": "r5PbOFEuFfGF"
      },
      "source": [
        "### Setup\n",
        "\n",
        "Run the code cell below. You can work locally (follow the [local setup instructions](https://lambdaschool.github.io/ds/unit2/local/)) or on Colab.\n",
        "\n",
        "Libraries\n",
        "\n",
        "- **category_encoders** \n",
        "- **graphviz**\n",
        "- ipywidgets\n",
        "- matplotlib\n",
        "- numpy\n",
        "- pandas\n",
        "- seaborn\n",
        "- scikit-learn"
      ]
    },
    {
      "cell_type": "code",
      "metadata": {
        "colab_type": "code",
        "id": "FStAplyRFoEu",
        "colab": {}
      },
      "source": [
        "%%capture\n",
        "import sys\n",
        "\n",
        "# If you're on Colab:\n",
        "if 'google.colab' in sys.modules:\n",
        "    DATA_PATH = 'https://raw.githubusercontent.com/LambdaSchool/DS-Unit-2-Kaggle-Challenge/master/data/'\n",
        "    !pip install category_encoders==2.*\n",
        "\n",
        "# If you're working locally:\n",
        "else:\n",
        "    DATA_PATH = '../data/'"
      ],
      "execution_count": 17,
      "outputs": []
    },
    {
      "cell_type": "markdown",
      "metadata": {
        "colab_type": "text",
        "id": "ZL-yK8B7gLVW"
      },
      "source": [
        "# Use scikit-learn for random forests"
      ]
    },
    {
      "cell_type": "markdown",
      "metadata": {
        "id": "WfErc1FVN9VP",
        "colab_type": "text"
      },
      "source": [
        "## Overview\n",
        "\n",
        "Let's fit a Random Forest!\n",
        "\n",
        "![](https://pbs.twimg.com/media/EGSvKA0UUAEzUZi?format=png)\n",
        "\n",
        "[Chris Albon, MachineLearningFlashcards.com](https://twitter.com/chrisalbon/status/1181261589887909889)"
      ]
    },
    {
      "cell_type": "markdown",
      "metadata": {
        "colab_type": "text",
        "id": "gHFxMCPSgLVM"
      },
      "source": [
        "### Solution example\n",
        "\n",
        "First, read & wrangle the data.\n",
        "\n",
        "> Define a function to wrangle train, validate, and test sets in the same way. Clean outliers and engineer features. (For example, [what other columns have zeros and shouldn't?](https://github.com/Quartz/bad-data-guide#zeros-replace-missing-values) What other columns are duplicates, or nearly duplicates? Can you extract the year from date_recorded? Can you engineer new features, such as the number of years from waterpump construction to waterpump inspection?)"
      ]
    },
    {
      "cell_type": "code",
      "metadata": {
        "colab_type": "code",
        "id": "YTLm-rDagLVM",
        "colab": {}
      },
      "source": [
        "import numpy as np\n",
        "import pandas as pd\n",
        "from sklearn.model_selection import train_test_split\n",
        "\n",
        "# Merge train_features.csv & train_labels.csv\n",
        "train = pd.merge(pd.read_csv(DATA_PATH+'waterpumps/train_features.csv'), \n",
        "                 pd.read_csv(DATA_PATH+'waterpumps/train_labels.csv'))\n",
        "\n",
        "# Read test_features.csv & sample_submission.csv\n",
        "test = pd.read_csv(DATA_PATH+'waterpumps/test_features.csv')\n",
        "sample_submission = pd.read_csv(DATA_PATH+'waterpumps/sample_submission.csv')\n",
        "\n",
        "# Split train into train & val\n",
        "train, val = train_test_split(train, train_size=0.80, test_size=0.20, \n",
        "                              stratify=train['status_group'], random_state=42)\n",
        "\n",
        "\n",
        "def wrangle(X):\n",
        "    \"\"\"Wrangle train, validate, and test sets in the same way\"\"\"\n",
        "    \n",
        "    # Prevent SettingWithCopyWarning\n",
        "    X = X.copy()\n",
        "    \n",
        "    # About 3% of the time, latitude has small values near zero,\n",
        "    # outside Tanzania, so we'll treat these values like zero.\n",
        "    X['latitude'] = X['latitude'].replace(-2e-08, 0)\n",
        "    \n",
        "    # When columns have zeros and shouldn't, they are like null values.\n",
        "    # So we will replace the zeros with nulls, and impute missing values later.\n",
        "    # Also create a \"missing indicator\" column, because the fact that\n",
        "    # values are missing may be a predictive signal.\n",
        "    cols_with_zeros = ['longitude', 'latitude', 'construction_year', \n",
        "                       'gps_height', 'population']\n",
        "    for col in cols_with_zeros:\n",
        "        X[col] = X[col].replace(0, np.nan)\n",
        "        X[col+'_MISSING'] = X[col].isnull()\n",
        "            \n",
        "    # Drop duplicate columns\n",
        "    duplicates = ['quantity_group', 'payment_type']\n",
        "    X = X.drop(columns=duplicates)\n",
        "    \n",
        "    # Drop recorded_by (never varies) and id (always varies, random)\n",
        "    unusable_variance = ['recorded_by', 'id']\n",
        "    X = X.drop(columns=unusable_variance)\n",
        "    \n",
        "    # Convert date_recorded to datetime\n",
        "    X['date_recorded'] = pd.to_datetime(X['date_recorded'], infer_datetime_format=True)\n",
        "    \n",
        "    # Extract components from date_recorded, then drop the original column\n",
        "    X['year_recorded'] = X['date_recorded'].dt.year\n",
        "    X['month_recorded'] = X['date_recorded'].dt.month\n",
        "    X['day_recorded'] = X['date_recorded'].dt.day\n",
        "    X = X.drop(columns='date_recorded')\n",
        "    \n",
        "    # Engineer feature: how many years from construction_year to date_recorded\n",
        "    X['years'] = X['year_recorded'] - X['construction_year']\n",
        "    X['years_MISSING'] = X['years'].isnull()\n",
        "    \n",
        "    # return the wrangled dataframe\n",
        "    return X\n",
        "\n",
        "train = wrangle(train)\n",
        "val = wrangle(val)\n",
        "test = wrangle(test)"
      ],
      "execution_count": 18,
      "outputs": []
    },
    {
      "cell_type": "code",
      "metadata": {
        "colab_type": "code",
        "id": "m2HppBvZgLVP",
        "colab": {}
      },
      "source": [
        "# The status_group column is the target\n",
        "target = 'status_group'\n",
        "\n",
        "# Get a dataframe with all train columns except the target\n",
        "train_features = train.drop(columns=[target])\n",
        "\n",
        "# Get a list of the numeric features\n",
        "numeric_features = train_features.select_dtypes(include='number').columns.tolist()\n",
        "\n",
        "# Get a series with the cardinality of the nonnumeric features\n",
        "cardinality = train_features.select_dtypes(exclude='number').nunique()\n",
        "\n",
        "# Get a list of all categorical features with cardinality <= 50\n",
        "categorical_features = cardinality[cardinality <= 50].index.tolist()\n",
        "\n",
        "# Combine the lists \n",
        "features = numeric_features + categorical_features"
      ],
      "execution_count": 19,
      "outputs": []
    },
    {
      "cell_type": "code",
      "metadata": {
        "colab_type": "code",
        "id": "aXmK2brXgLVR",
        "colab": {}
      },
      "source": [
        "# Arrange data into X features matrix and y target vector \n",
        "X_train = train[features]\n",
        "y_train = train[target]\n",
        "X_val = val[features]\n",
        "y_val = val[target]\n",
        "X_test = test[features]"
      ],
      "execution_count": 20,
      "outputs": []
    },
    {
      "cell_type": "markdown",
      "metadata": {
        "id": "lriTM-mmN9VY",
        "colab_type": "text"
      },
      "source": [
        "## Follow Along\n",
        "\n",
        "[Scikit-Learn User Guide: Random Forests](https://scikit-learn.org/stable/modules/ensemble.html#random-forests) "
      ]
    },
    {
      "cell_type": "code",
      "metadata": {
        "colab_type": "code",
        "id": "57yyygsdgLVW",
        "colab": {
          "base_uri": "https://localhost:8080/",
          "height": 67
        },
        "outputId": "abbf4b3e-833e-452d-b935-976d5afe42ca"
      },
      "source": [
        "# TODO\n",
        "\n",
        "# see how long it takes to run\n",
        "%%time \n",
        "# WATNING: sometimes spits errors\n",
        "\n",
        "\n",
        "# imports for random forest pipeline\n",
        "import category_encoders as ce\n",
        "from sklearn.pipeline import make_pipeline\n",
        "from sklearn.tree import DecisionTreeClassifier\n",
        "from sklearn.ensemble import RandomForestClassifier\n",
        "from sklearn.impute import SimpleImputer\n",
        "\n",
        "# random forest model\n",
        "pipeline = make_pipeline(\n",
        "     ce.OneHotEncoder(use_cat_names=True),\n",
        "     SimpleImputer(strategy='median'),\n",
        "     RandomForestClassifier(random_state=0, n_jobs=-1)\n",
        ")\n",
        "\n",
        "# fit pipeline\n",
        "pipeline.fit(X_train, y_train)\n",
        "\n",
        "# score with validation data\n",
        "print('Validation Accuracy:',pipeline.score(X_val, y_val))"
      ],
      "execution_count": 21,
      "outputs": [
        {
          "output_type": "stream",
          "text": [
            "Validation Accuracy: 0.8088383838383838\n",
            "CPU times: user 28.5 s, sys: 474 ms, total: 29 s\n",
            "Wall time: 17.7 s\n"
          ],
          "name": "stdout"
        }
      ]
    },
    {
      "cell_type": "code",
      "metadata": {
        "id": "AdgTwiTJdgvq",
        "colab_type": "code",
        "colab": {
          "base_uri": "https://localhost:8080/",
          "height": 50
        },
        "outputId": "5d932321-899a-45f3-9b27-e8914990bd33"
      },
      "source": [
        "# looking at how OneHotEncoder handles the data\n",
        "print('X_train before encoding', X_train.shape)\n",
        "\n",
        "# calling back our pipeline encoder\n",
        "encoder = pipeline.named_steps['onehotencoder']\n",
        "encoded = encoder.transform(X_train)\n",
        "\n",
        "# after encoding\n",
        "print(f'X_train after encoding, {encoded.shape}')"
      ],
      "execution_count": 22,
      "outputs": [
        {
          "output_type": "stream",
          "text": [
            "X_train before encoding (47520, 38)\n",
            "X_train after encoding, (47520, 182)\n"
          ],
          "name": "stdout"
        }
      ]
    },
    {
      "cell_type": "markdown",
      "metadata": {
        "id": "OAQIFMrZqsnc",
        "colab_type": "text"
      },
      "source": [
        "Coefficients vs Feature importances\n",
        "- **Alike**: Both estimate the **strength** of the relationship between an individual frearture and the target in the model. (assuming the features in the linear model are scaled/standardized\n",
        "- **Differnet**: Coefficients can be negative of positive, which estimates the **diresction** of the relationship between an individual feature and the target. feature importances are alway positive because the concept of negative relationship doest exist for forest models, non monotonic relationships."
      ]
    },
    {
      "cell_type": "code",
      "metadata": {
        "id": "3gjnYc_SqAYh",
        "colab_type": "code",
        "colab": {
          "base_uri": "https://localhost:8080/",
          "height": 624
        },
        "outputId": "32379b32-88c3-4330-d2e8-a510f0de5623"
      },
      "source": [
        "%matplotlib inline\n",
        "\n",
        "# plot feature importance for pipeline that uses OneHotEncoding\n",
        "import matplotlib.pyplot as plt\n",
        "\n",
        "#get feature importances\n",
        "rf = pipeline.named_steps['randomforestclassifier']\n",
        "\n",
        "# make series to plot with feature values and column names.\n",
        "importances = pd.Series(rf.feature_importances_,encoded.columns)\n",
        "\n",
        "# plot\n",
        "n=20 \n",
        "plt.figure(figsize=(10,n/2))\n",
        "plt.title(f'Top {n} Features')\n",
        "importances.sort_values()[-n:].plot.barh()"
      ],
      "execution_count": 23,
      "outputs": [
        {
          "output_type": "execute_result",
          "data": {
            "text/plain": [
              "<matplotlib.axes._subplots.AxesSubplot at 0x7fc994ec26d8>"
            ]
          },
          "metadata": {
            "tags": []
          },
          "execution_count": 23
        },
        {
          "output_type": "display_data",
          "data": {
            "image/png": "[encoded data removed]",
            "text/plain": [
              "<Figure size 720x720 with 1 Axes>"
            ]
          },
          "metadata": {
            "tags": [],
            "needs_background": "light"
          }
        }
      ]
    },
    {
      "cell_type": "markdown",
      "metadata": {
        "colab_type": "text",
        "id": "yfyk_aa5gLVY"
      },
      "source": [
        "# Do ordinal encoding with high-cardinality categoricals"
      ]
    },
    {
      "cell_type": "markdown",
      "metadata": {
        "id": "5wtXoqk2N9Vh",
        "colab_type": "text"
      },
      "source": [
        "## Overview\n",
        "\n",
        "https://contrib.scikit-learn.org/category_encoders/ordinal.html"
      ]
    },
    {
      "cell_type": "markdown",
      "metadata": {
        "id": "yb8tRtRtN9Vi",
        "colab_type": "text"
      },
      "source": [
        "## Follow Along"
      ]
    },
    {
      "cell_type": "code",
      "metadata": {
        "colab_type": "code",
        "id": "b8d_WJtcgLVZ",
        "colab": {}
      },
      "source": [
        "# TODO\n",
        "\n",
        "# re-arrange data into X features and Y traget with all features.\n",
        "\n",
        "X_train = train.drop(columns=target)\n",
        "y_train = train[target]\n",
        "\n",
        "X_val = val.drop(columns=target)\n",
        "y_val = val[target]\n",
        "\n",
        "X_test = test"
      ],
      "execution_count": 30,
      "outputs": []
    },
    {
      "cell_type": "code",
      "metadata": {
        "id": "ne0Y019lgJhA",
        "colab_type": "code",
        "colab": {
          "base_uri": "https://localhost:8080/",
          "height": 101
        },
        "outputId": "f4fcd355-457e-496e-b183-45c5c6959237"
      },
      "source": [
        "%%time \n",
        "\n",
        "# replacing OneHotEncoder with 'ordinal'\n",
        "pipeline = make_pipeline(\n",
        "     ce.OrdinalEncoder(),\n",
        "     SimpleImputer(strategy='median'),\n",
        "     RandomForestClassifier(random_state=0, n_jobs=-1)\n",
        ")\n",
        "\n",
        "# fit pipeline\n",
        "pipeline.fit(X_train, y_train)\n",
        "\n",
        "# score with validation data\n",
        "print('Validation Accuracy:',pipeline.score(X_val, y_val))\n",
        "\n",
        "# looking at how ordinal handles the data\n",
        "print('X_train before encoding', X_train.shape)\n",
        "\n",
        "# calling back our pipeline encoder\n",
        "encoder = pipeline.named_steps['ordinalencoder']\n",
        "encoded = encoder.transform(X_train)\n",
        "\n",
        "# after encoding\n",
        "print(f'X_train after encoding, {encoded.shape}')"
      ],
      "execution_count": 31,
      "outputs": [
        {
          "output_type": "stream",
          "text": [
            "Validation Accuracy: 0.8092592592592592\n",
            "X_train before encoding (47520, 45)\n",
            "X_train after encoding, (47520, 45)\n",
            "CPU times: user 20.7 s, sys: 95.8 ms, total: 20.8 s\n",
            "Wall time: 11.7 s\n"
          ],
          "name": "stdout"
        }
      ]
    },
    {
      "cell_type": "code",
      "metadata": {
        "id": "1C-RXD-4vdNa",
        "colab_type": "code",
        "colab": {
          "base_uri": "https://localhost:8080/",
          "height": 624
        },
        "outputId": "7c6f6fbb-a4d4-4658-b264-98bcc14f6f1b"
      },
      "source": [
        "%matplotlib inline\n",
        "\n",
        "# plot feature importance for pipeline that uses Ordinal encoding\n",
        "import matplotlib.pyplot as plt\n",
        "\n",
        "#get feature importances\n",
        "rf = pipeline.named_steps['randomforestclassifier']\n",
        "\n",
        "# make series to plot with feature values and column names.\n",
        "importances = pd.Series(rf.feature_importances_,encoded.columns)\n",
        "\n",
        "# plot\n",
        "n=20 \n",
        "plt.figure(figsize=(10,n/2))\n",
        "plt.title(f'Top {n} Features with Ordinal encoding')\n",
        "importances.sort_values()[-n:].plot.barh()"
      ],
      "execution_count": 32,
      "outputs": [
        {
          "output_type": "execute_result",
          "data": {
            "text/plain": [
              "<matplotlib.axes._subplots.AxesSubplot at 0x7fc9957755f8>"
            ]
          },
          "metadata": {
            "tags": []
          },
          "execution_count": 32
        },
        {
          "output_type": "display_data",
          "data": {
            "image/png": "[encoded data removed]",
            "text/plain": [
              "<Figure size 720x720 with 1 Axes>"
            ]
          },
          "metadata": {
            "tags": [],
            "needs_background": "light"
          }
        }
      ]
    },
    {
      "cell_type": "markdown",
      "metadata": {
        "id": "TfKYwcXgv8Ee",
        "colab_type": "text"
      },
      "source": [
        "Doesnt mean that these values are truly important (might be over fitting the high cardinality features) "
      ]
    },
    {
      "cell_type": "markdown",
      "metadata": {
        "colab_type": "text",
        "id": "xs2UPoVdgLVp"
      },
      "source": [
        "# Understand how categorical encodings affect trees differently compared to linear models"
      ]
    },
    {
      "cell_type": "markdown",
      "metadata": {
        "id": "zZ7-fLvgN9Vo",
        "colab_type": "text"
      },
      "source": [
        "## Follow Along"
      ]
    },
    {
      "cell_type": "markdown",
      "metadata": {
        "colab_type": "text",
        "id": "z8V-A92mgLVp"
      },
      "source": [
        "### Categorical exploration, 1 feature at a time\n",
        "\n",
        "Change `feature`, then re-run these cells!"
      ]
    },
    {
      "cell_type": "code",
      "metadata": {
        "colab_type": "code",
        "id": "G35RAzVdgLVq",
        "colab": {}
      },
      "source": [
        "feature = 'extraction_type_class'"
      ],
      "execution_count": 33,
      "outputs": []
    },
    {
      "cell_type": "code",
      "metadata": {
        "colab_type": "code",
        "id": "OuxHWiH8gLVr",
        "colab": {
          "base_uri": "https://localhost:8080/",
          "height": 151
        },
        "outputId": "f2004956-1270-4c09-ff47-77d8a3673df1"
      },
      "source": [
        "X_train[feature].value_counts()"
      ],
      "execution_count": 26,
      "outputs": [
        {
          "output_type": "execute_result",
          "data": {
            "text/plain": [
              "gravity         21448\n",
              "handpump        13184\n",
              "other            5193\n",
              "submersible      4894\n",
              "motorpump        2355\n",
              "rope pump         353\n",
              "wind-powered       93\n",
              "Name: extraction_type_class, dtype: int64"
            ]
          },
          "metadata": {
            "tags": []
          },
          "execution_count": 26
        }
      ]
    },
    {
      "cell_type": "code",
      "metadata": {
        "colab_type": "code",
        "id": "pVxoC4NngLVt",
        "colab": {
          "base_uri": "https://localhost:8080/",
          "height": 552
        },
        "outputId": "2da03fc5-109b-4f08-8f05-60cefee9ac3b"
      },
      "source": [
        "import seaborn as sns\n",
        "plt.figure(figsize=(16,9))\n",
        "sns.barplot(\n",
        "    x=train[feature], \n",
        "    y=train['status_group']=='functional', \n",
        "    color='grey'\n",
        ");"
      ],
      "execution_count": 38,
      "outputs": [
        {
          "output_type": "display_data",
          "data": {
            "image/png": "[encoded data removed]",
            "text/plain": [
              "<Figure size 1152x648 with 1 Axes>"
            ]
          },
          "metadata": {
            "tags": [],
            "needs_background": "light"
          }
        }
      ]
    },
    {
      "cell_type": "code",
      "metadata": {
        "colab_type": "code",
        "id": "w99mek14gLVv",
        "colab": {
          "base_uri": "https://localhost:8080/",
          "height": 370
        },
        "outputId": "8ceb6055-9e74-45aa-c1de-f7e7a25d51a6"
      },
      "source": [
        "X_train[feature].head(20)"
      ],
      "execution_count": 35,
      "outputs": [
        {
          "output_type": "execute_result",
          "data": {
            "text/plain": [
              "43360        gravity\n",
              "7263         gravity\n",
              "2486        handpump\n",
              "313            other\n",
              "52726      motorpump\n",
              "8558         gravity\n",
              "2559         gravity\n",
              "54735      motorpump\n",
              "25763       handpump\n",
              "44540    submersible\n",
              "28603          other\n",
              "4372     submersible\n",
              "30666        gravity\n",
              "6431     submersible\n",
              "57420          other\n",
              "1373         gravity\n",
              "2026         gravity\n",
              "58977       handpump\n",
              "41101        gravity\n",
              "10019        gravity\n",
              "Name: extraction_type_class, dtype: object"
            ]
          },
          "metadata": {
            "tags": []
          },
          "execution_count": 35
        }
      ]
    },
    {
      "cell_type": "markdown",
      "metadata": {
        "colab_type": "text",
        "id": "ezzK2IdbgLVx"
      },
      "source": [
        "### [One Hot Encoding](https://contrib.scikit-learn.org/category_encoders/onehot.html)\n",
        "\n",
        "> Onehot (or dummy) coding for categorical features, produces one feature per category, each binary.\n",
        "\n",
        "Warning: May run slow, or run out of memory, with high cardinality categoricals!"
      ]
    },
    {
      "cell_type": "code",
      "metadata": {
        "colab_type": "code",
        "id": "HDQZtV6GgLVy",
        "colab": {
          "base_uri": "https://localhost:8080/",
          "height": 693
        },
        "outputId": "d9f3cb95-1447-4a47-b816-caad9cf77463"
      },
      "source": [
        "encoder = ce.OneHotEncoder(use_cat_names=True)\n",
        "encoded = encoder.fit_transform(X_train[[feature]])\n",
        "print(f'{len(encoded.columns)} columns')\n",
        "encoded.head(20)"
      ],
      "execution_count": 39,
      "outputs": [
        {
          "output_type": "stream",
          "text": [
            "7 columns\n"
          ],
          "name": "stdout"
        },
        {
          "output_type": "execute_result",
          "data": {
            "text/html": [
              "<div>\n",
              "<style scoped>\n",
              "    .dataframe tbody tr th:only-of-type {\n",
              "        vertical-align: middle;\n",
              "    }\n",
              "\n",
              "    .dataframe tbody tr th {\n",
              "        vertical-align: top;\n",
              "    }\n",
              "\n",
              "    .dataframe thead th {\n",
              "        text-align: right;\n",
              "    }\n",
              "</style>\n",
              "<table border=\"1\" class=\"dataframe\">\n",
              "  <thead>\n",
              "    <tr style=\"text-align: right;\">\n",
              "      <th></th>\n",
              "      <th>extraction_type_class_gravity</th>\n",
              "      <th>extraction_type_class_handpump</th>\n",
              "      <th>extraction_type_class_other</th>\n",
              "      <th>extraction_type_class_motorpump</th>\n",
              "      <th>extraction_type_class_submersible</th>\n",
              "      <th>extraction_type_class_rope pump</th>\n",
              "      <th>extraction_type_class_wind-powered</th>\n",
              "    </tr>\n",
              "  </thead>\n",
              "  <tbody>\n",
              "    <tr>\n",
              "      <th>43360</th>\n",
              "      <td>1</td>\n",
              "      <td>0</td>\n",
              "      <td>0</td>\n",
              "      <td>0</td>\n",
              "      <td>0</td>\n",
              "      <td>0</td>\n",
              "      <td>0</td>\n",
              "    </tr>\n",
              "    <tr>\n",
              "      <th>7263</th>\n",
              "      <td>1</td>\n",
              "      <td>0</td>\n",
              "      <td>0</td>\n",
              "      <td>0</td>\n",
              "      <td>0</td>\n",
              "      <td>0</td>\n",
              "      <td>0</td>\n",
              "    </tr>\n",
              "    <tr>\n",
              "      <th>2486</th>\n",
              "      <td>0</td>\n",
              "      <td>1</td>\n",
              "      <td>0</td>\n",
              "      <td>0</td>\n",
              "      <td>0</td>\n",
              "      <td>0</td>\n",
              "      <td>0</td>\n",
              "    </tr>\n",
              "    <tr>\n",
              "      <th>313</th>\n",
              "      <td>0</td>\n",
              "      <td>0</td>\n",
              "      <td>1</td>\n",
              "      <td>0</td>\n",
              "      <td>0</td>\n",
              "      <td>0</td>\n",
              "      <td>0</td>\n",
              "    </tr>\n",
              "    <tr>\n",
              "      <th>52726</th>\n",
              "      <td>0</td>\n",
              "      <td>0</td>\n",
              "      <td>0</td>\n",
              "      <td>1</td>\n",
              "      <td>0</td>\n",
              "      <td>0</td>\n",
              "      <td>0</td>\n",
              "    </tr>\n",
              "    <tr>\n",
              "      <th>8558</th>\n",
              "      <td>1</td>\n",
              "      <td>0</td>\n",
              "      <td>0</td>\n",
              "      <td>0</td>\n",
              "      <td>0</td>\n",
              "      <td>0</td>\n",
              "      <td>0</td>\n",
              "    </tr>\n",
              "    <tr>\n",
              "      <th>2559</th>\n",
              "      <td>1</td>\n",
              "      <td>0</td>\n",
              "      <td>0</td>\n",
              "      <td>0</td>\n",
              "      <td>0</td>\n",
              "      <td>0</td>\n",
              "      <td>0</td>\n",
              "    </tr>\n",
              "    <tr>\n",
              "      <th>54735</th>\n",
              "      <td>0</td>\n",
              "      <td>0</td>\n",
              "      <td>0</td>\n",
              "      <td>1</td>\n",
              "      <td>0</td>\n",
              "      <td>0</td>\n",
              "      <td>0</td>\n",
              "    </tr>\n",
              "    <tr>\n",
              "      <th>25763</th>\n",
              "      <td>0</td>\n",
              "      <td>1</td>\n",
              "      <td>0</td>\n",
              "      <td>0</td>\n",
              "      <td>0</td>\n",
              "      <td>0</td>\n",
              "      <td>0</td>\n",
              "    </tr>\n",
              "    <tr>\n",
              "      <th>44540</th>\n",
              "      <td>0</td>\n",
              "      <td>0</td>\n",
              "      <td>0</td>\n",
              "      <td>0</td>\n",
              "      <td>1</td>\n",
              "      <td>0</td>\n",
              "      <td>0</td>\n",
              "    </tr>\n",
              "    <tr>\n",
              "      <th>28603</th>\n",
              "      <td>0</td>\n",
              "      <td>0</td>\n",
              "      <td>1</td>\n",
              "      <td>0</td>\n",
              "      <td>0</td>\n",
              "      <td>0</td>\n",
              "      <td>0</td>\n",
              "    </tr>\n",
              "    <tr>\n",
              "      <th>4372</th>\n",
              "      <td>0</td>\n",
              "      <td>0</td>\n",
              "      <td>0</td>\n",
              "      <td>0</td>\n",
              "      <td>1</td>\n",
              "      <td>0</td>\n",
              "      <td>0</td>\n",
              "    </tr>\n",
              "    <tr>\n",
              "      <th>30666</th>\n",
              "      <td>1</td>\n",
              "      <td>0</td>\n",
              "      <td>0</td>\n",
              "      <td>0</td>\n",
              "      <td>0</td>\n",
              "      <td>0</td>\n",
              "      <td>0</td>\n",
              "    </tr>\n",
              "    <tr>\n",
              "      <th>6431</th>\n",
              "      <td>0</td>\n",
              "      <td>0</td>\n",
              "      <td>0</td>\n",
              "      <td>0</td>\n",
              "      <td>1</td>\n",
              "      <td>0</td>\n",
              "      <td>0</td>\n",
              "    </tr>\n",
              "    <tr>\n",
              "      <th>57420</th>\n",
              "      <td>0</td>\n",
              "      <td>0</td>\n",
              "      <td>1</td>\n",
              "      <td>0</td>\n",
              "      <td>0</td>\n",
              "      <td>0</td>\n",
              "      <td>0</td>\n",
              "    </tr>\n",
              "    <tr>\n",
              "      <th>1373</th>\n",
              "      <td>1</td>\n",
              "      <td>0</td>\n",
              "      <td>0</td>\n",
              "      <td>0</td>\n",
              "      <td>0</td>\n",
              "      <td>0</td>\n",
              "      <td>0</td>\n",
              "    </tr>\n",
              "    <tr>\n",
              "      <th>2026</th>\n",
              "      <td>1</td>\n",
              "      <td>0</td>\n",
              "      <td>0</td>\n",
              "      <td>0</td>\n",
              "      <td>0</td>\n",
              "      <td>0</td>\n",
              "      <td>0</td>\n",
              "    </tr>\n",
              "    <tr>\n",
              "      <th>58977</th>\n",
              "      <td>0</td>\n",
              "      <td>1</td>\n",
              "      <td>0</td>\n",
              "      <td>0</td>\n",
              "      <td>0</td>\n",
              "      <td>0</td>\n",
              "      <td>0</td>\n",
              "    </tr>\n",
              "    <tr>\n",
              "      <th>41101</th>\n",
              "      <td>1</td>\n",
              "      <td>0</td>\n",
              "      <td>0</td>\n",
              "      <td>0</td>\n",
              "      <td>0</td>\n",
              "      <td>0</td>\n",
              "      <td>0</td>\n",
              "    </tr>\n",
              "    <tr>\n",
              "      <th>10019</th>\n",
              "      <td>1</td>\n",
              "      <td>0</td>\n",
              "      <td>0</td>\n",
              "      <td>0</td>\n",
              "      <td>0</td>\n",
              "      <td>0</td>\n",
              "      <td>0</td>\n",
              "    </tr>\n",
              "  </tbody>\n",
              "</table>\n",
              "</div>"
            ],
            "text/plain": [
              "       extraction_type_class_gravity  ...  extraction_type_class_wind-powered\n",
              "43360                              1  ...                                   0\n",
              "7263                               1  ...                                   0\n",
              "2486                               0  ...                                   0\n",
              "313                                0  ...                                   0\n",
              "52726                              0  ...                                   0\n",
              "8558                               1  ...                                   0\n",
              "2559                               1  ...                                   0\n",
              "54735                              0  ...                                   0\n",
              "25763                              0  ...                                   0\n",
              "44540                              0  ...                                   0\n",
              "28603                              0  ...                                   0\n",
              "4372                               0  ...                                   0\n",
              "30666                              1  ...                                   0\n",
              "6431                               0  ...                                   0\n",
              "57420                              0  ...                                   0\n",
              "1373                               1  ...                                   0\n",
              "2026                               1  ...                                   0\n",
              "58977                              0  ...                                   0\n",
              "41101                              1  ...                                   0\n",
              "10019                              1  ...                                   0\n",
              "\n",
              "[20 rows x 7 columns]"
            ]
          },
          "metadata": {
            "tags": []
          },
          "execution_count": 39
        }
      ]
    },
    {
      "cell_type": "markdown",
      "metadata": {
        "colab_type": "text",
        "id": "1Ql9Qmw3sNJ7"
      },
      "source": [
        "#### One-Hot Encoding, Logistic Regression, Validation Accuracy"
      ]
    },
    {
      "cell_type": "code",
      "metadata": {
        "colab_type": "code",
        "id": "mT4A-oDGpOss",
        "colab": {
          "base_uri": "https://localhost:8080/",
          "height": 34
        },
        "outputId": "b0e94f85-7c71-4b79-c435-f24cd2beac32"
      },
      "source": [
        "from sklearn.linear_model import LogisticRegressionCV\n",
        "from sklearn.preprocessing import StandardScaler\n",
        "\n",
        "lr = make_pipeline(\n",
        "    ce.OneHotEncoder(use_cat_names=True), \n",
        "    SimpleImputer(), \n",
        "    StandardScaler(), \n",
        "    LogisticRegressionCV(multi_class='auto', solver='lbfgs', cv=5, n_jobs=-1)\n",
        ")\n",
        "\n",
        "lr.fit(X_train[[feature]], y_train)\n",
        "score = lr.score(X_val[[feature]], y_val)\n",
        "print('Logistic Regression, Validation Accuracy', score)"
      ],
      "execution_count": 40,
      "outputs": [
        {
          "output_type": "stream",
          "text": [
            "Logistic Regression, Validation Accuracy 0.6202861952861953\n"
          ],
          "name": "stdout"
        }
      ]
    },
    {
      "cell_type": "markdown",
      "metadata": {
        "colab_type": "text",
        "id": "EbH6wivpsRuV"
      },
      "source": [
        "#### One-Hot Encoding, Decision Tree, Validation Accuracy"
      ]
    },
    {
      "cell_type": "code",
      "metadata": {
        "colab_type": "code",
        "id": "b6KUluFOqIdK",
        "colab": {
          "base_uri": "https://localhost:8080/",
          "height": 34
        },
        "outputId": "8f12975a-87f2-4465-adc1-682fdee916eb"
      },
      "source": [
        "from sklearn.tree import DecisionTreeClassifier\n",
        "\n",
        "dt = make_pipeline(\n",
        "    ce.OneHotEncoder(use_cat_names=True), \n",
        "    SimpleImputer(), \n",
        "    DecisionTreeClassifier(random_state=42)\n",
        ")\n",
        "\n",
        "dt.fit(X_train[[feature]], y_train)\n",
        "score = dt.score(X_val[[feature]], y_val)\n",
        "print('Decision Tree, Validation Accuracy', score)"
      ],
      "execution_count": 41,
      "outputs": [
        {
          "output_type": "stream",
          "text": [
            "Decision Tree, Validation Accuracy 0.6202861952861953\n"
          ],
          "name": "stdout"
        }
      ]
    },
    {
      "cell_type": "markdown",
      "metadata": {
        "colab_type": "text",
        "id": "8yg11_gTsUu6"
      },
      "source": [
        "#### One-Hot Encoding, Logistic Regression, Model Interpretation"
      ]
    },
    {
      "cell_type": "code",
      "metadata": {
        "colab_type": "code",
        "id": "IxHwXGRornNI",
        "colab": {
          "base_uri": "https://localhost:8080/",
          "height": 265
        },
        "outputId": "a385bbbf-9f49-410b-f031-cde8be2b2879"
      },
      "source": [
        "model = lr.named_steps['logisticregressioncv']\n",
        "encoder = lr.named_steps['onehotencoder']\n",
        "encoded_columns = encoder.transform(X_val[[feature]]).columns\n",
        "coefficients = pd.Series(model.coef_[0], encoded_columns)\n",
        "coefficients.sort_values().plot.barh(color='grey');"
      ],
      "execution_count": 42,
      "outputs": [
        {
          "output_type": "display_data",
          "data": {
            "image/png": "[encoded data removed]",
            "text/plain": [
              "<Figure size 432x288 with 1 Axes>"
            ]
          },
          "metadata": {
            "tags": [],
            "needs_background": "light"
          }
        }
      ]
    },
    {
      "cell_type": "markdown",
      "metadata": {
        "colab_type": "text",
        "id": "0REZ8HdpsccR"
      },
      "source": [
        "#### One-Hot Encoding, Decision Tree, Model Interpretation"
      ]
    },
    {
      "cell_type": "code",
      "metadata": {
        "colab_type": "code",
        "id": "gV-grmYKpDp9",
        "colab": {
          "base_uri": "https://localhost:8080/",
          "height": 954
        },
        "outputId": "875e5762-4103-4163-85af-c8fb33c462c1"
      },
      "source": [
        "# Plot tree\n",
        "# https://scikit-learn.org/stable/modules/generated/sklearn.tree.export_graphviz.html\n",
        "import graphviz\n",
        "from sklearn.tree import export_graphviz\n",
        "\n",
        "model = dt.named_steps['decisiontreeclassifier']\n",
        "encoder = dt.named_steps['onehotencoder']\n",
        "encoded_columns = encoder.transform(X_val[[feature]]).columns\n",
        "\n",
        "dot_data = export_graphviz(model, \n",
        "                           out_file=None, \n",
        "                           max_depth=7, \n",
        "                           feature_names=encoded_columns,\n",
        "                           class_names=model.classes_, \n",
        "                           impurity=False, \n",
        "                           filled=True, \n",
        "                           proportion=True, \n",
        "                           rounded=True)   \n",
        "display(graphviz.Source(dot_data))"
      ],
      "execution_count": 47,
      "outputs": [
        {
          "output_type": "display_data",
          "data": {
            "text/plain": [
              "<graphviz.files.Source at 0x7fc98b77f128>"
            ],
            "image/svg+xml": "<?xml version=\"1.0\" encoding=\"UTF-8\" standalone=\"no\"?>\n<!DOCTYPE svg PUBLIC \"-//W3C//DTD SVG 1.1//EN\"\n \"http://www.w3.org/Graphics/SVG/1.1/DTD/svg11.dtd\">\n<!-- Generated by graphviz version 2.40.1 (20161225.0304)\n -->\n<!-- Title: Tree Pages: 1 -->\n<svg width=\"1067pt\" height=\"685pt\"\n viewBox=\"0.00 0.00 1067.00 685.00\" xmlns=\"http://www.w3.org/2000/svg\" xmlns:xlink=\"http://www.w3.org/1999/xlink\">\n<g id=\"graph0\" class=\"graph\" transform=\"scale(1 1) rotate(0) translate(4 681)\">\n<title>Tree</title>\n<polygon fill=\"#ffffff\" stroke=\"transparent\" points=\"-4,4 -4,-681 1063,-681 1063,4 -4,4\"/>\n<!-- 0 -->\n<g id=\"node1\" class=\"node\">\n<title>0</title>\n<path fill=\"#f8decc\" stroke=\"#000000\" d=\"M944.5,-677C944.5,-677 725.5,-677 725.5,-677 719.5,-677 713.5,-671 713.5,-665 713.5,-665 713.5,-621 713.5,-621 713.5,-615 719.5,-609 725.5,-609 725.5,-609 944.5,-609 944.5,-609 950.5,-609 956.5,-615 956.5,-621 956.5,-621 956.5,-665 956.5,-665 956.5,-671 950.5,-677 944.5,-677\"/>\n<text text-anchor=\"middle\" x=\"835\" y=\"-661.8\" font-family=\"Helvetica,sans-Serif\" font-size=\"14.00\" fill=\"#000000\">extraction_type_class_other &lt;= 0.5</text>\n<text text-anchor=\"middle\" x=\"835\" y=\"-646.8\" font-family=\"Helvetica,sans-Serif\" font-size=\"14.00\" fill=\"#000000\">samples = 100.0%</text>\n<text text-anchor=\"middle\" x=\"835\" y=\"-631.8\" font-family=\"Helvetica,sans-Serif\" font-size=\"14.00\" fill=\"#000000\">value = [0.543, 0.073, 0.384]</text>\n<text text-anchor=\"middle\" x=\"835\" y=\"-616.8\" font-family=\"Helvetica,sans-Serif\" font-size=\"14.00\" fill=\"#000000\">class = functional</text>\n</g>\n<!-- 1 -->\n<g id=\"node2\" class=\"node\">\n<title>1</title>\n<path fill=\"#f5ceb2\" stroke=\"#000000\" d=\"M837,-573C837,-573 577,-573 577,-573 571,-573 565,-567 565,-561 565,-561 565,-517 565,-517 565,-511 571,-505 577,-505 577,-505 837,-505 837,-505 843,-505 849,-511 849,-517 849,-517 849,-561 849,-561 849,-567 843,-573 837,-573\"/>\n<text text-anchor=\"middle\" x=\"707\" y=\"-557.8\" font-family=\"Helvetica,sans-Serif\" font-size=\"14.00\" fill=\"#000000\">extraction_type_class_motorpump &lt;= 0.5</text>\n<text text-anchor=\"middle\" x=\"707\" y=\"-542.8\" font-family=\"Helvetica,sans-Serif\" font-size=\"14.00\" fill=\"#000000\">samples = 89.1%</text>\n<text text-anchor=\"middle\" x=\"707\" y=\"-527.8\" font-family=\"Helvetica,sans-Serif\" font-size=\"14.00\" fill=\"#000000\">value = [0.59, 0.078, 0.332]</text>\n<text text-anchor=\"middle\" x=\"707\" y=\"-512.8\" font-family=\"Helvetica,sans-Serif\" font-size=\"14.00\" fill=\"#000000\">class = functional</text>\n</g>\n<!-- 0&#45;&gt;1 -->\n<g id=\"edge1\" class=\"edge\">\n<title>0&#45;&gt;1</title>\n<path fill=\"none\" stroke=\"#000000\" d=\"M793.088,-608.9465C781.485,-599.519 768.7779,-589.1946 756.7741,-579.4415\"/>\n<polygon fill=\"#000000\" stroke=\"#000000\" points=\"758.9744,-576.7196 749.0061,-573.13 754.5602,-582.1524 758.9744,-576.7196\"/>\n<text text-anchor=\"middle\" x=\"751.5786\" y=\"-594.2973\" font-family=\"Helvetica,sans-Serif\" font-size=\"14.00\" fill=\"#000000\">True</text>\n</g>\n<!-- 12 -->\n<g id=\"node13\" class=\"node\">\n<title>12</title>\n<path fill=\"#9d66eb\" stroke=\"#000000\" d=\"M1047,-565.5C1047,-565.5 879,-565.5 879,-565.5 873,-565.5 867,-559.5 867,-553.5 867,-553.5 867,-524.5 867,-524.5 867,-518.5 873,-512.5 879,-512.5 879,-512.5 1047,-512.5 1047,-512.5 1053,-512.5 1059,-518.5 1059,-524.5 1059,-524.5 1059,-553.5 1059,-553.5 1059,-559.5 1053,-565.5 1047,-565.5\"/>\n<text text-anchor=\"middle\" x=\"963\" y=\"-550.3\" font-family=\"Helvetica,sans-Serif\" font-size=\"14.00\" fill=\"#000000\">samples = 10.9%</text>\n<text text-anchor=\"middle\" x=\"963\" y=\"-535.3\" font-family=\"Helvetica,sans-Serif\" font-size=\"14.00\" fill=\"#000000\">value = [0.159, 0.031, 0.81]</text>\n<text text-anchor=\"middle\" x=\"963\" y=\"-520.3\" font-family=\"Helvetica,sans-Serif\" font-size=\"14.00\" fill=\"#000000\">class = non functional</text>\n</g>\n<!-- 0&#45;&gt;12 -->\n<g id=\"edge12\" class=\"edge\">\n<title>0&#45;&gt;12</title>\n<path fill=\"none\" stroke=\"#000000\" d=\"M876.912,-608.9465C891.5533,-597.0504 907.9526,-583.726 922.4785,-571.9237\"/>\n<polygon fill=\"#000000\" stroke=\"#000000\" points=\"924.7786,-574.5645 930.3327,-565.5422 920.3645,-569.1317 924.7786,-574.5645\"/>\n<text text-anchor=\"middle\" x=\"927.7602\" y=\"-586.7095\" font-family=\"Helvetica,sans-Serif\" font-size=\"14.00\" fill=\"#000000\">False</text>\n</g>\n<!-- 2 -->\n<g id=\"node3\" class=\"node\">\n<title>2</title>\n<path fill=\"#f4caac\" stroke=\"#000000\" d=\"M708.5,-469C708.5,-469 443.5,-469 443.5,-469 437.5,-469 431.5,-463 431.5,-457 431.5,-457 431.5,-413 431.5,-413 431.5,-407 437.5,-401 443.5,-401 443.5,-401 708.5,-401 708.5,-401 714.5,-401 720.5,-407 720.5,-413 720.5,-413 720.5,-457 720.5,-457 720.5,-463 714.5,-469 708.5,-469\"/>\n<text text-anchor=\"middle\" x=\"576\" y=\"-453.8\" font-family=\"Helvetica,sans-Serif\" font-size=\"14.00\" fill=\"#000000\">extraction_type_class_submersible &lt;= 0.5</text>\n<text text-anchor=\"middle\" x=\"576\" y=\"-438.8\" font-family=\"Helvetica,sans-Serif\" font-size=\"14.00\" fill=\"#000000\">samples = 84.1%</text>\n<text text-anchor=\"middle\" x=\"576\" y=\"-423.8\" font-family=\"Helvetica,sans-Serif\" font-size=\"14.00\" fill=\"#000000\">value = [0.603, 0.08, 0.318]</text>\n<text text-anchor=\"middle\" x=\"576\" y=\"-408.8\" font-family=\"Helvetica,sans-Serif\" font-size=\"14.00\" fill=\"#000000\">class = functional</text>\n</g>\n<!-- 1&#45;&gt;2 -->\n<g id=\"edge2\" class=\"edge\">\n<title>1&#45;&gt;2</title>\n<path fill=\"none\" stroke=\"#000000\" d=\"M664.1057,-504.9465C652.2307,-495.519 639.2259,-485.1946 626.9407,-475.4415\"/>\n<polygon fill=\"#000000\" stroke=\"#000000\" points=\"628.9989,-472.6066 618.9907,-469.13 624.6464,-478.089 628.9989,-472.6066\"/>\n</g>\n<!-- 11 -->\n<g id=\"node12\" class=\"node\">\n<title>11</title>\n<path fill=\"#d8c1f7\" stroke=\"#000000\" d=\"M927,-461.5C927,-461.5 751,-461.5 751,-461.5 745,-461.5 739,-455.5 739,-449.5 739,-449.5 739,-420.5 739,-420.5 739,-414.5 745,-408.5 751,-408.5 751,-408.5 927,-408.5 927,-408.5 933,-408.5 939,-414.5 939,-420.5 939,-420.5 939,-449.5 939,-449.5 939,-455.5 933,-461.5 927,-461.5\"/>\n<text text-anchor=\"middle\" x=\"839\" y=\"-446.3\" font-family=\"Helvetica,sans-Serif\" font-size=\"14.00\" fill=\"#000000\">samples = 5.0%</text>\n<text text-anchor=\"middle\" x=\"839\" y=\"-431.3\" font-family=\"Helvetica,sans-Serif\" font-size=\"14.00\" fill=\"#000000\">value = [0.381, 0.045, 0.574]</text>\n<text text-anchor=\"middle\" x=\"839\" y=\"-416.3\" font-family=\"Helvetica,sans-Serif\" font-size=\"14.00\" fill=\"#000000\">class = non functional</text>\n</g>\n<!-- 1&#45;&gt;11 -->\n<g id=\"edge11\" class=\"edge\">\n<title>1&#45;&gt;11</title>\n<path fill=\"none\" stroke=\"#000000\" d=\"M750.2217,-504.9465C765.3206,-493.0504 782.2324,-479.726 797.2122,-467.9237\"/>\n<polygon fill=\"#000000\" stroke=\"#000000\" points=\"799.623,-470.4802 805.3119,-461.5422 795.2909,-464.9817 799.623,-470.4802\"/>\n</g>\n<!-- 3 -->\n<g id=\"node4\" class=\"node\">\n<title>3</title>\n<path fill=\"#f4c7a8\" stroke=\"#000000\" d=\"M568.5,-365C568.5,-365 339.5,-365 339.5,-365 333.5,-365 327.5,-359 327.5,-353 327.5,-353 327.5,-309 327.5,-309 327.5,-303 333.5,-297 339.5,-297 339.5,-297 568.5,-297 568.5,-297 574.5,-297 580.5,-303 580.5,-309 580.5,-309 580.5,-353 580.5,-353 580.5,-359 574.5,-365 568.5,-365\"/>\n<text text-anchor=\"middle\" x=\"454\" y=\"-349.8\" font-family=\"Helvetica,sans-Serif\" font-size=\"14.00\" fill=\"#000000\">extraction_type_class_gravity &lt;= 0.5</text>\n<text text-anchor=\"middle\" x=\"454\" y=\"-334.8\" font-family=\"Helvetica,sans-Serif\" font-size=\"14.00\" fill=\"#000000\">samples = 73.8%</text>\n<text text-anchor=\"middle\" x=\"454\" y=\"-319.8\" font-family=\"Helvetica,sans-Serif\" font-size=\"14.00\" fill=\"#000000\">value = [0.611, 0.085, 0.304]</text>\n<text text-anchor=\"middle\" x=\"454\" y=\"-304.8\" font-family=\"Helvetica,sans-Serif\" font-size=\"14.00\" fill=\"#000000\">class = functional</text>\n</g>\n<!-- 2&#45;&gt;3 -->\n<g id=\"edge3\" class=\"edge\">\n<title>2&#45;&gt;3</title>\n<path fill=\"none\" stroke=\"#000000\" d=\"M536.0526,-400.9465C525.0988,-391.6088 513.1127,-381.3911 501.768,-371.7203\"/>\n<polygon fill=\"#000000\" stroke=\"#000000\" points=\"503.9179,-368.9538 494.0371,-365.13 499.3767,-374.2809 503.9179,-368.9538\"/>\n</g>\n<!-- 10 -->\n<g id=\"node11\" class=\"node\">\n<title>10</title>\n<path fill=\"#f9e4d5\" stroke=\"#000000\" d=\"M787,-357.5C787,-357.5 611,-357.5 611,-357.5 605,-357.5 599,-351.5 599,-345.5 599,-345.5 599,-316.5 599,-316.5 599,-310.5 605,-304.5 611,-304.5 611,-304.5 787,-304.5 787,-304.5 793,-304.5 799,-310.5 799,-316.5 799,-316.5 799,-345.5 799,-345.5 799,-351.5 793,-357.5 787,-357.5\"/>\n<text text-anchor=\"middle\" x=\"699\" y=\"-342.3\" font-family=\"Helvetica,sans-Serif\" font-size=\"14.00\" fill=\"#000000\">samples = 10.3%</text>\n<text text-anchor=\"middle\" x=\"699\" y=\"-327.3\" font-family=\"Helvetica,sans-Serif\" font-size=\"14.00\" fill=\"#000000\">value = [0.541, 0.042, 0.416]</text>\n<text text-anchor=\"middle\" x=\"699\" y=\"-312.3\" font-family=\"Helvetica,sans-Serif\" font-size=\"14.00\" fill=\"#000000\">class = functional</text>\n</g>\n<!-- 2&#45;&gt;10 -->\n<g id=\"edge10\" class=\"edge\">\n<title>2&#45;&gt;10</title>\n<path fill=\"none\" stroke=\"#000000\" d=\"M616.2748,-400.9465C630.2139,-389.1606 645.8112,-375.9726 659.6732,-364.2519\"/>\n<polygon fill=\"#000000\" stroke=\"#000000\" points=\"662.2324,-366.6715 667.6088,-357.5422 657.7127,-361.3262 662.2324,-366.6715\"/>\n</g>\n<!-- 4 -->\n<g id=\"node5\" class=\"node\">\n<title>4</title>\n<path fill=\"#f3c5a4\" stroke=\"#000000\" d=\"M458.5,-261C458.5,-261 181.5,-261 181.5,-261 175.5,-261 169.5,-255 169.5,-249 169.5,-249 169.5,-205 169.5,-205 169.5,-199 175.5,-193 181.5,-193 181.5,-193 458.5,-193 458.5,-193 464.5,-193 470.5,-199 470.5,-205 470.5,-205 470.5,-249 470.5,-249 470.5,-255 464.5,-261 458.5,-261\"/>\n<text text-anchor=\"middle\" x=\"320\" y=\"-245.8\" font-family=\"Helvetica,sans-Serif\" font-size=\"14.00\" fill=\"#000000\">extraction_type_class_wind&#45;powered &lt;= 0.5</text>\n<text text-anchor=\"middle\" x=\"320\" y=\"-230.8\" font-family=\"Helvetica,sans-Serif\" font-size=\"14.00\" fill=\"#000000\">samples = 28.7%</text>\n<text text-anchor=\"middle\" x=\"320\" y=\"-215.8\" font-family=\"Helvetica,sans-Serif\" font-size=\"14.00\" fill=\"#000000\">value = [0.629, 0.059, 0.311]</text>\n<text text-anchor=\"middle\" x=\"320\" y=\"-200.8\" font-family=\"Helvetica,sans-Serif\" font-size=\"14.00\" fill=\"#000000\">class = functional</text>\n</g>\n<!-- 3&#45;&gt;4 -->\n<g id=\"edge4\" class=\"edge\">\n<title>3&#45;&gt;4</title>\n<path fill=\"none\" stroke=\"#000000\" d=\"M410.1234,-296.9465C397.9765,-287.519 384.6738,-277.1946 372.1073,-267.4415\"/>\n<polygon fill=\"#000000\" stroke=\"#000000\" points=\"374.021,-264.4963 363.9752,-261.13 369.7291,-270.0262 374.021,-264.4963\"/>\n</g>\n<!-- 9 -->\n<g id=\"node10\" class=\"node\">\n<title>9</title>\n<path fill=\"#f4c9aa\" stroke=\"#000000\" d=\"M677,-253.5C677,-253.5 501,-253.5 501,-253.5 495,-253.5 489,-247.5 489,-241.5 489,-241.5 489,-212.5 489,-212.5 489,-206.5 495,-200.5 501,-200.5 501,-200.5 677,-200.5 677,-200.5 683,-200.5 689,-206.5 689,-212.5 689,-212.5 689,-241.5 689,-241.5 689,-247.5 683,-253.5 677,-253.5\"/>\n<text text-anchor=\"middle\" x=\"589\" y=\"-238.3\" font-family=\"Helvetica,sans-Serif\" font-size=\"14.00\" fill=\"#000000\">samples = 45.1%</text>\n<text text-anchor=\"middle\" x=\"589\" y=\"-223.3\" font-family=\"Helvetica,sans-Serif\" font-size=\"14.00\" fill=\"#000000\">value = [0.599, 0.101, 0.299]</text>\n<text text-anchor=\"middle\" x=\"589\" y=\"-208.3\" font-family=\"Helvetica,sans-Serif\" font-size=\"14.00\" fill=\"#000000\">class = functional</text>\n</g>\n<!-- 3&#45;&gt;9 -->\n<g id=\"edge9\" class=\"edge\">\n<title>3&#45;&gt;9</title>\n<path fill=\"none\" stroke=\"#000000\" d=\"M498.204,-296.9465C513.6461,-285.0504 530.9422,-271.726 546.2625,-259.9237\"/>\n<polygon fill=\"#000000\" stroke=\"#000000\" points=\"548.7603,-262.4176 554.5462,-253.5422 544.4883,-256.8723 548.7603,-262.4176\"/>\n</g>\n<!-- 5 -->\n<g id=\"node6\" class=\"node\">\n<title>5</title>\n<path fill=\"#f3c4a3\" stroke=\"#000000\" d=\"M319,-157C319,-157 63,-157 63,-157 57,-157 51,-151 51,-145 51,-145 51,-101 51,-101 51,-95 57,-89 63,-89 63,-89 319,-89 319,-89 325,-89 331,-95 331,-101 331,-101 331,-145 331,-145 331,-151 325,-157 319,-157\"/>\n<text text-anchor=\"middle\" x=\"191\" y=\"-141.8\" font-family=\"Helvetica,sans-Serif\" font-size=\"14.00\" fill=\"#000000\">extraction_type_class_rope pump &lt;= 0.5</text>\n<text text-anchor=\"middle\" x=\"191\" y=\"-126.8\" font-family=\"Helvetica,sans-Serif\" font-size=\"14.00\" fill=\"#000000\">samples = 28.5%</text>\n<text text-anchor=\"middle\" x=\"191\" y=\"-111.8\" font-family=\"Helvetica,sans-Serif\" font-size=\"14.00\" fill=\"#000000\">value = [0.631, 0.059, 0.31]</text>\n<text text-anchor=\"middle\" x=\"191\" y=\"-96.8\" font-family=\"Helvetica,sans-Serif\" font-size=\"14.00\" fill=\"#000000\">class = functional</text>\n</g>\n<!-- 4&#45;&gt;5 -->\n<g id=\"edge5\" class=\"edge\">\n<title>4&#45;&gt;5</title>\n<path fill=\"none\" stroke=\"#000000\" d=\"M277.7606,-192.9465C266.0669,-183.519 253.2606,-173.1946 241.163,-163.4415\"/>\n<polygon fill=\"#000000\" stroke=\"#000000\" points=\"243.3162,-160.6816 233.3343,-157.13 238.9227,-166.1312 243.3162,-160.6816\"/>\n</g>\n<!-- 8 -->\n<g id=\"node9\" class=\"node\">\n<title>8</title>\n<path fill=\"#f8f3fd\" stroke=\"#000000\" d=\"M537,-149.5C537,-149.5 361,-149.5 361,-149.5 355,-149.5 349,-143.5 349,-137.5 349,-137.5 349,-108.5 349,-108.5 349,-102.5 355,-96.5 361,-96.5 361,-96.5 537,-96.5 537,-96.5 543,-96.5 549,-102.5 549,-108.5 549,-108.5 549,-137.5 549,-137.5 549,-143.5 543,-149.5 537,-149.5\"/>\n<text text-anchor=\"middle\" x=\"449\" y=\"-134.3\" font-family=\"Helvetica,sans-Serif\" font-size=\"14.00\" fill=\"#000000\">samples = 0.2%</text>\n<text text-anchor=\"middle\" x=\"449\" y=\"-119.3\" font-family=\"Helvetica,sans-Serif\" font-size=\"14.00\" fill=\"#000000\">value = [0.452, 0.065, 0.484]</text>\n<text text-anchor=\"middle\" x=\"449\" y=\"-104.3\" font-family=\"Helvetica,sans-Serif\" font-size=\"14.00\" fill=\"#000000\">class = non functional</text>\n</g>\n<!-- 4&#45;&gt;8 -->\n<g id=\"edge8\" class=\"edge\">\n<title>4&#45;&gt;8</title>\n<path fill=\"none\" stroke=\"#000000\" d=\"M362.2394,-192.9465C376.9952,-181.0504 393.5225,-167.726 408.162,-155.9237\"/>\n<polygon fill=\"#000000\" stroke=\"#000000\" points=\"410.4891,-158.5433 416.0775,-149.5422 406.0957,-153.0938 410.4891,-158.5433\"/>\n</g>\n<!-- 6 -->\n<g id=\"node7\" class=\"node\">\n<title>6</title>\n<path fill=\"#f3c5a3\" stroke=\"#000000\" d=\"M164,-53C164,-53 12,-53 12,-53 6,-53 0,-47 0,-41 0,-41 0,-12 0,-12 0,-6 6,0 12,0 12,0 164,0 164,0 170,0 176,-6 176,-12 176,-12 176,-41 176,-41 176,-47 170,-53 164,-53\"/>\n<text text-anchor=\"middle\" x=\"88\" y=\"-37.8\" font-family=\"Helvetica,sans-Serif\" font-size=\"14.00\" fill=\"#000000\">samples = 27.7%</text>\n<text text-anchor=\"middle\" x=\"88\" y=\"-22.8\" font-family=\"Helvetica,sans-Serif\" font-size=\"14.00\" fill=\"#000000\">value = [0.63, 0.06, 0.31]</text>\n<text text-anchor=\"middle\" x=\"88\" y=\"-7.8\" font-family=\"Helvetica,sans-Serif\" font-size=\"14.00\" fill=\"#000000\">class = functional</text>\n</g>\n<!-- 5&#45;&gt;6 -->\n<g id=\"edge6\" class=\"edge\">\n<title>5&#45;&gt;6</title>\n<path fill=\"none\" stroke=\"#000000\" d=\"M154.6861,-88.9777C144.7168,-79.6376 133.9138,-69.5163 123.9643,-60.1947\"/>\n<polygon fill=\"#000000\" stroke=\"#000000\" points=\"126.2408,-57.5314 116.5502,-53.2485 121.4548,-62.6397 126.2408,-57.5314\"/>\n</g>\n<!-- 7 -->\n<g id=\"node8\" class=\"node\">\n<title>7</title>\n<path fill=\"#f2bf9b\" stroke=\"#000000\" d=\"M382,-53C382,-53 206,-53 206,-53 200,-53 194,-47 194,-41 194,-41 194,-12 194,-12 194,-6 200,0 206,0 206,0 382,0 382,0 388,0 394,-6 394,-12 394,-12 394,-41 394,-41 394,-47 388,-53 382,-53\"/>\n<text text-anchor=\"middle\" x=\"294\" y=\"-37.8\" font-family=\"Helvetica,sans-Serif\" font-size=\"14.00\" fill=\"#000000\">samples = 0.7%</text>\n<text text-anchor=\"middle\" x=\"294\" y=\"-22.8\" font-family=\"Helvetica,sans-Serif\" font-size=\"14.00\" fill=\"#000000\">value = [0.657, 0.037, 0.306]</text>\n<text text-anchor=\"middle\" x=\"294\" y=\"-7.8\" font-family=\"Helvetica,sans-Serif\" font-size=\"14.00\" fill=\"#000000\">class = functional</text>\n</g>\n<!-- 5&#45;&gt;7 -->\n<g id=\"edge7\" class=\"edge\">\n<title>5&#45;&gt;7</title>\n<path fill=\"none\" stroke=\"#000000\" d=\"M227.3139,-88.9777C237.2832,-79.6376 248.0862,-69.5163 258.0357,-60.1947\"/>\n<polygon fill=\"#000000\" stroke=\"#000000\" points=\"260.5452,-62.6397 265.4498,-53.2485 255.7592,-57.5314 260.5452,-62.6397\"/>\n</g>\n</g>\n</svg>\n"
          },
          "metadata": {
            "tags": []
          }
        }
      ]
    },
    {
      "cell_type": "markdown",
      "metadata": {
        "colab_type": "text",
        "id": "QUd6gzcZgLVz"
      },
      "source": [
        "### [Ordinal Encoding](https://contrib.scikit-learn.org/category_encoders/ordinal.html)\n",
        "\n",
        "> Ordinal encoding uses a single column of integers to represent the classes. An optional mapping dict can be passed in; in this case, we use the knowledge that there is some true order to the classes themselves. Otherwise, the classes are assumed to have no true order and integers are selected at random."
      ]
    },
    {
      "cell_type": "code",
      "metadata": {
        "colab_type": "code",
        "id": "CnBz2RbwgLVz",
        "colab": {
          "base_uri": "https://localhost:8080/",
          "height": 656
        },
        "outputId": "6b145e81-8ad1-4af2-d3e9-e387825e0c4e"
      },
      "source": [
        "encoder = ce.OrdinalEncoder()\n",
        "encoded = encoder.fit_transform(X_train[[feature]])\n",
        "print(f'1 column, {encoded[feature].nunique()} unique values')\n",
        "encoded.head(20)\n",
        "\n",
        "# if there is a true order to the columns you would have to map it manually."
      ],
      "execution_count": 48,
      "outputs": [
        {
          "output_type": "stream",
          "text": [
            "1 column, 7 unique values\n"
          ],
          "name": "stdout"
        },
        {
          "output_type": "execute_result",
          "data": {
            "text/html": [
              "<div>\n",
              "<style scoped>\n",
              "    .dataframe tbody tr th:only-of-type {\n",
              "        vertical-align: middle;\n",
              "    }\n",
              "\n",
              "    .dataframe tbody tr th {\n",
              "        vertical-align: top;\n",
              "    }\n",
              "\n",
              "    .dataframe thead th {\n",
              "        text-align: right;\n",
              "    }\n",
              "</style>\n",
              "<table border=\"1\" class=\"dataframe\">\n",
              "  <thead>\n",
              "    <tr style=\"text-align: right;\">\n",
              "      <th></th>\n",
              "      <th>extraction_type_class</th>\n",
              "    </tr>\n",
              "  </thead>\n",
              "  <tbody>\n",
              "    <tr>\n",
              "      <th>43360</th>\n",
              "      <td>1</td>\n",
              "    </tr>\n",
              "    <tr>\n",
              "      <th>7263</th>\n",
              "      <td>1</td>\n",
              "    </tr>\n",
              "    <tr>\n",
              "      <th>2486</th>\n",
              "      <td>2</td>\n",
              "    </tr>\n",
              "    <tr>\n",
              "      <th>313</th>\n",
              "      <td>3</td>\n",
              "    </tr>\n",
              "    <tr>\n",
              "      <th>52726</th>\n",
              "      <td>4</td>\n",
              "    </tr>\n",
              "    <tr>\n",
              "      <th>8558</th>\n",
              "      <td>1</td>\n",
              "    </tr>\n",
              "    <tr>\n",
              "      <th>2559</th>\n",
              "      <td>1</td>\n",
              "    </tr>\n",
              "    <tr>\n",
              "      <th>54735</th>\n",
              "      <td>4</td>\n",
              "    </tr>\n",
              "    <tr>\n",
              "      <th>25763</th>\n",
              "      <td>2</td>\n",
              "    </tr>\n",
              "    <tr>\n",
              "      <th>44540</th>\n",
              "      <td>5</td>\n",
              "    </tr>\n",
              "    <tr>\n",
              "      <th>28603</th>\n",
              "      <td>3</td>\n",
              "    </tr>\n",
              "    <tr>\n",
              "      <th>4372</th>\n",
              "      <td>5</td>\n",
              "    </tr>\n",
              "    <tr>\n",
              "      <th>30666</th>\n",
              "      <td>1</td>\n",
              "    </tr>\n",
              "    <tr>\n",
              "      <th>6431</th>\n",
              "      <td>5</td>\n",
              "    </tr>\n",
              "    <tr>\n",
              "      <th>57420</th>\n",
              "      <td>3</td>\n",
              "    </tr>\n",
              "    <tr>\n",
              "      <th>1373</th>\n",
              "      <td>1</td>\n",
              "    </tr>\n",
              "    <tr>\n",
              "      <th>2026</th>\n",
              "      <td>1</td>\n",
              "    </tr>\n",
              "    <tr>\n",
              "      <th>58977</th>\n",
              "      <td>2</td>\n",
              "    </tr>\n",
              "    <tr>\n",
              "      <th>41101</th>\n",
              "      <td>1</td>\n",
              "    </tr>\n",
              "    <tr>\n",
              "      <th>10019</th>\n",
              "      <td>1</td>\n",
              "    </tr>\n",
              "  </tbody>\n",
              "</table>\n",
              "</div>"
            ],
            "text/plain": [
              "       extraction_type_class\n",
              "43360                      1\n",
              "7263                       1\n",
              "2486                       2\n",
              "313                        3\n",
              "52726                      4\n",
              "8558                       1\n",
              "2559                       1\n",
              "54735                      4\n",
              "25763                      2\n",
              "44540                      5\n",
              "28603                      3\n",
              "4372                       5\n",
              "30666                      1\n",
              "6431                       5\n",
              "57420                      3\n",
              "1373                       1\n",
              "2026                       1\n",
              "58977                      2\n",
              "41101                      1\n",
              "10019                      1"
            ]
          },
          "metadata": {
            "tags": []
          },
          "execution_count": 48
        }
      ]
    },
    {
      "cell_type": "code",
      "metadata": {
        "id": "miibpKEA_3q6",
        "colab_type": "code",
        "colab": {
          "base_uri": "https://localhost:8080/",
          "height": 195
        },
        "outputId": "ecc61675-31f9-420b-e0ef-8593e314ef2b"
      },
      "source": [
        " # as compared to \n",
        " X_train[[feature]].head(5)\n",
        "\n",
        " # where onhotencoder would make multiple new columns, we can use one column."
      ],
      "execution_count": 50,
      "outputs": [
        {
          "output_type": "execute_result",
          "data": {
            "text/html": [
              "<div>\n",
              "<style scoped>\n",
              "    .dataframe tbody tr th:only-of-type {\n",
              "        vertical-align: middle;\n",
              "    }\n",
              "\n",
              "    .dataframe tbody tr th {\n",
              "        vertical-align: top;\n",
              "    }\n",
              "\n",
              "    .dataframe thead th {\n",
              "        text-align: right;\n",
              "    }\n",
              "</style>\n",
              "<table border=\"1\" class=\"dataframe\">\n",
              "  <thead>\n",
              "    <tr style=\"text-align: right;\">\n",
              "      <th></th>\n",
              "      <th>extraction_type_class</th>\n",
              "    </tr>\n",
              "  </thead>\n",
              "  <tbody>\n",
              "    <tr>\n",
              "      <th>43360</th>\n",
              "      <td>gravity</td>\n",
              "    </tr>\n",
              "    <tr>\n",
              "      <th>7263</th>\n",
              "      <td>gravity</td>\n",
              "    </tr>\n",
              "    <tr>\n",
              "      <th>2486</th>\n",
              "      <td>handpump</td>\n",
              "    </tr>\n",
              "    <tr>\n",
              "      <th>313</th>\n",
              "      <td>other</td>\n",
              "    </tr>\n",
              "    <tr>\n",
              "      <th>52726</th>\n",
              "      <td>motorpump</td>\n",
              "    </tr>\n",
              "  </tbody>\n",
              "</table>\n",
              "</div>"
            ],
            "text/plain": [
              "      extraction_type_class\n",
              "43360               gravity\n",
              "7263                gravity\n",
              "2486               handpump\n",
              "313                   other\n",
              "52726             motorpump"
            ]
          },
          "metadata": {
            "tags": []
          },
          "execution_count": 50
        }
      ]
    },
    {
      "cell_type": "markdown",
      "metadata": {
        "colab_type": "text",
        "id": "Nd-ZWprasqUM"
      },
      "source": [
        "#### Ordinal Encoding, Logistic Regression, Validation Accuracy"
      ]
    },
    {
      "cell_type": "code",
      "metadata": {
        "colab_type": "code",
        "id": "GJ1YpwjvrhfL",
        "colab": {
          "base_uri": "https://localhost:8080/",
          "height": 34
        },
        "outputId": "9ba4420a-ea17-4ef7-c175-df8f95f007e3"
      },
      "source": [
        "lr = make_pipeline(\n",
        "    ce.OrdinalEncoder(), \n",
        "    SimpleImputer(), \n",
        "    StandardScaler(), \n",
        "    LogisticRegressionCV(multi_class='auto', solver='lbfgs', cv=5, n_jobs=-1)\n",
        ")\n",
        "\n",
        "lr.fit(X_train[[feature]], y_train)\n",
        "score = lr.score(X_val[[feature]], y_val)\n",
        "print('Logistic Regression, Validation Accuracy', score)"
      ],
      "execution_count": 51,
      "outputs": [
        {
          "output_type": "stream",
          "text": [
            "Logistic Regression, Validation Accuracy 0.5417508417508418\n"
          ],
          "name": "stdout"
        }
      ]
    },
    {
      "cell_type": "markdown",
      "metadata": {
        "colab_type": "text",
        "id": "9lO_R3SksuHs"
      },
      "source": [
        "#### Ordinal Encoding, Decision Tree, Validation Accuracy"
      ]
    },
    {
      "cell_type": "code",
      "metadata": {
        "colab_type": "code",
        "id": "aOELD_roriVI",
        "colab": {
          "base_uri": "https://localhost:8080/",
          "height": 34
        },
        "outputId": "bc5ad9f0-1757-4e70-dd79-33c365622fb6"
      },
      "source": [
        "dt = make_pipeline(\n",
        "    ce.OrdinalEncoder(), \n",
        "    SimpleImputer(), \n",
        "    DecisionTreeClassifier(random_state=42)\n",
        ")\n",
        "\n",
        "dt.fit(X_train[[feature]], y_train)\n",
        "score = dt.score(X_val[[feature]], y_val)\n",
        "print('Decision Tree, Validation Accuracy', score)"
      ],
      "execution_count": 52,
      "outputs": [
        {
          "output_type": "stream",
          "text": [
            "Decision Tree, Validation Accuracy 0.6202861952861953\n"
          ],
          "name": "stdout"
        }
      ]
    },
    {
      "cell_type": "markdown",
      "metadata": {
        "colab_type": "text",
        "id": "7V2zHjiwswTg"
      },
      "source": [
        "#### Ordinal Encoding, Logistic Regression, Model Interpretation"
      ]
    },
    {
      "cell_type": "code",
      "metadata": {
        "colab_type": "code",
        "id": "S9UPYPois8QR",
        "colab": {
          "base_uri": "https://localhost:8080/",
          "height": 265
        },
        "outputId": "55c42304-52cd-4211-fd08-d71ebe9f4daa"
      },
      "source": [
        "model = lr.named_steps['logisticregressioncv']\n",
        "encoder = lr.named_steps['ordinalencoder']\n",
        "encoded_columns = encoder.transform(X_val[[feature]]).columns\n",
        "coefficients = pd.Series(model.coef_[0], encoded_columns)\n",
        "coefficients.sort_values().plot.barh(color='grey');"
      ],
      "execution_count": 53,
      "outputs": [
        {
          "output_type": "display_data",
          "data": {
            "image/png": "[encoded data removed]",
            "text/plain": [
              "<Figure size 432x288 with 1 Axes>"
            ]
          },
          "metadata": {
            "tags": [],
            "needs_background": "light"
          }
        }
      ]
    },
    {
      "cell_type": "markdown",
      "metadata": {
        "colab_type": "text",
        "id": "MvmmvE8fsymh"
      },
      "source": [
        "#### Ordinal Encoding, Decision Tree, Model Interpretation"
      ]
    },
    {
      "cell_type": "code",
      "metadata": {
        "colab_type": "code",
        "id": "jCvUu4Oms88b",
        "colab": {
          "base_uri": "https://localhost:8080/",
          "height": 816
        },
        "outputId": "fff0da8f-6337-4467-af52-c4b69cc1af19"
      },
      "source": [
        "model = dt.named_steps['decisiontreeclassifier']\n",
        "encoder = dt.named_steps['ordinalencoder']\n",
        "encoded_columns = encoder.transform(X_val[[feature]]).columns\n",
        "\n",
        "dot_data = export_graphviz(model, \n",
        "                           out_file=None, \n",
        "                           max_depth=5, \n",
        "                           feature_names=encoded_columns,\n",
        "                           class_names=model.classes_, \n",
        "                           impurity=False, \n",
        "                           filled=True, \n",
        "                           proportion=True, \n",
        "                           rounded=True)   \n",
        "display(graphviz.Source(dot_data))"
      ],
      "execution_count": 54,
      "outputs": [
        {
          "output_type": "display_data",
          "data": {
            "text/plain": [
              "<graphviz.files.Source at 0x7fc98b73b588>"
            ],
            "image/svg+xml": "<?xml version=\"1.0\" encoding=\"UTF-8\" standalone=\"no\"?>\n<!DOCTYPE svg PUBLIC \"-//W3C//DTD SVG 1.1//EN\"\n \"http://www.w3.org/Graphics/SVG/1.1/DTD/svg11.dtd\">\n<!-- Generated by graphviz version 2.40.1 (20161225.0304)\n -->\n<!-- Title: Tree Pages: 1 -->\n<svg width=\"1167pt\" height=\"581pt\"\n viewBox=\"0.00 0.00 1167.00 581.00\" xmlns=\"http://www.w3.org/2000/svg\" xmlns:xlink=\"http://www.w3.org/1999/xlink\">\n<g id=\"graph0\" class=\"graph\" transform=\"scale(1 1) rotate(0) translate(4 577)\">\n<title>Tree</title>\n<polygon fill=\"#ffffff\" stroke=\"transparent\" points=\"-4,4 -4,-577 1163,-577 1163,4 -4,4\"/>\n<!-- 0 -->\n<g id=\"node1\" class=\"node\">\n<title>0</title>\n<path fill=\"#f8decc\" stroke=\"#000000\" d=\"M500,-573C500,-573 322,-573 322,-573 316,-573 310,-567 310,-561 310,-561 310,-517 310,-517 310,-511 316,-505 322,-505 322,-505 500,-505 500,-505 506,-505 512,-511 512,-517 512,-517 512,-561 512,-561 512,-567 506,-573 500,-573\"/>\n<text text-anchor=\"middle\" x=\"411\" y=\"-557.8\" font-family=\"Helvetica,sans-Serif\" font-size=\"14.00\" fill=\"#000000\">extraction_type_class &lt;= 2.5</text>\n<text text-anchor=\"middle\" x=\"411\" y=\"-542.8\" font-family=\"Helvetica,sans-Serif\" font-size=\"14.00\" fill=\"#000000\">samples = 100.0%</text>\n<text text-anchor=\"middle\" x=\"411\" y=\"-527.8\" font-family=\"Helvetica,sans-Serif\" font-size=\"14.00\" fill=\"#000000\">value = [0.543, 0.073, 0.384]</text>\n<text text-anchor=\"middle\" x=\"411\" y=\"-512.8\" font-family=\"Helvetica,sans-Serif\" font-size=\"14.00\" fill=\"#000000\">class = functional</text>\n</g>\n<!-- 1 -->\n<g id=\"node2\" class=\"node\">\n<title>1</title>\n<path fill=\"#f4c7a8\" stroke=\"#000000\" d=\"M390,-469C390,-469 212,-469 212,-469 206,-469 200,-463 200,-457 200,-457 200,-413 200,-413 200,-407 206,-401 212,-401 212,-401 390,-401 390,-401 396,-401 402,-407 402,-413 402,-413 402,-457 402,-457 402,-463 396,-469 390,-469\"/>\n<text text-anchor=\"middle\" x=\"301\" y=\"-453.8\" font-family=\"Helvetica,sans-Serif\" font-size=\"14.00\" fill=\"#000000\">extraction_type_class &lt;= 1.5</text>\n<text text-anchor=\"middle\" x=\"301\" y=\"-438.8\" font-family=\"Helvetica,sans-Serif\" font-size=\"14.00\" fill=\"#000000\">samples = 72.9%</text>\n<text text-anchor=\"middle\" x=\"301\" y=\"-423.8\" font-family=\"Helvetica,sans-Serif\" font-size=\"14.00\" fill=\"#000000\">value = [0.611, 0.085, 0.304]</text>\n<text text-anchor=\"middle\" x=\"301\" y=\"-408.8\" font-family=\"Helvetica,sans-Serif\" font-size=\"14.00\" fill=\"#000000\">class = functional</text>\n</g>\n<!-- 0&#45;&gt;1 -->\n<g id=\"edge1\" class=\"edge\">\n<title>0&#45;&gt;1</title>\n<path fill=\"none\" stroke=\"#000000\" d=\"M374.9819,-504.9465C365.2954,-495.7884 354.7136,-485.7838 344.6603,-476.2788\"/>\n<polygon fill=\"#000000\" stroke=\"#000000\" points=\"346.7701,-473.4569 337.099,-469.13 341.961,-478.5434 346.7701,-473.4569\"/>\n<text text-anchor=\"middle\" x=\"337.7997\" y=\"-490.4202\" font-family=\"Helvetica,sans-Serif\" font-size=\"14.00\" fill=\"#000000\">True</text>\n</g>\n<!-- 4 -->\n<g id=\"node5\" class=\"node\">\n<title>4</title>\n<path fill=\"#d0b4f5\" stroke=\"#000000\" d=\"M610,-469C610,-469 432,-469 432,-469 426,-469 420,-463 420,-457 420,-457 420,-413 420,-413 420,-407 426,-401 432,-401 432,-401 610,-401 610,-401 616,-401 622,-407 622,-413 622,-413 622,-457 622,-457 622,-463 616,-469 610,-469\"/>\n<text text-anchor=\"middle\" x=\"521\" y=\"-453.8\" font-family=\"Helvetica,sans-Serif\" font-size=\"14.00\" fill=\"#000000\">extraction_type_class &lt;= 3.5</text>\n<text text-anchor=\"middle\" x=\"521\" y=\"-438.8\" font-family=\"Helvetica,sans-Serif\" font-size=\"14.00\" fill=\"#000000\">samples = 27.1%</text>\n<text text-anchor=\"middle\" x=\"521\" y=\"-423.8\" font-family=\"Helvetica,sans-Serif\" font-size=\"14.00\" fill=\"#000000\">value = [0.361, 0.038, 0.601]</text>\n<text text-anchor=\"middle\" x=\"521\" y=\"-408.8\" font-family=\"Helvetica,sans-Serif\" font-size=\"14.00\" fill=\"#000000\">class = non functional</text>\n</g>\n<!-- 0&#45;&gt;4 -->\n<g id=\"edge4\" class=\"edge\">\n<title>0&#45;&gt;4</title>\n<path fill=\"none\" stroke=\"#000000\" d=\"M447.0181,-504.9465C456.7046,-495.7884 467.2864,-485.7838 477.3397,-476.2788\"/>\n<polygon fill=\"#000000\" stroke=\"#000000\" points=\"480.039,-478.5434 484.901,-469.13 475.2299,-473.4569 480.039,-478.5434\"/>\n<text text-anchor=\"middle\" x=\"484.2003\" y=\"-490.4202\" font-family=\"Helvetica,sans-Serif\" font-size=\"14.00\" fill=\"#000000\">False</text>\n</g>\n<!-- 2 -->\n<g id=\"node3\" class=\"node\">\n<title>2</title>\n<path fill=\"#f4c9aa\" stroke=\"#000000\" d=\"M188,-357.5C188,-357.5 12,-357.5 12,-357.5 6,-357.5 0,-351.5 0,-345.5 0,-345.5 0,-316.5 0,-316.5 0,-310.5 6,-304.5 12,-304.5 12,-304.5 188,-304.5 188,-304.5 194,-304.5 200,-310.5 200,-316.5 200,-316.5 200,-345.5 200,-345.5 200,-351.5 194,-357.5 188,-357.5\"/>\n<text text-anchor=\"middle\" x=\"100\" y=\"-342.3\" font-family=\"Helvetica,sans-Serif\" font-size=\"14.00\" fill=\"#000000\">samples = 45.1%</text>\n<text text-anchor=\"middle\" x=\"100\" y=\"-327.3\" font-family=\"Helvetica,sans-Serif\" font-size=\"14.00\" fill=\"#000000\">value = [0.599, 0.101, 0.299]</text>\n<text text-anchor=\"middle\" x=\"100\" y=\"-312.3\" font-family=\"Helvetica,sans-Serif\" font-size=\"14.00\" fill=\"#000000\">class = functional</text>\n</g>\n<!-- 1&#45;&gt;2 -->\n<g id=\"edge2\" class=\"edge\">\n<title>1&#45;&gt;2</title>\n<path fill=\"none\" stroke=\"#000000\" d=\"M235.1851,-400.9465C211.1292,-388.4997 184.0513,-374.4892 160.4827,-362.2946\"/>\n<polygon fill=\"#000000\" stroke=\"#000000\" points=\"161.7878,-359.0291 151.2978,-357.5422 158.571,-365.2462 161.7878,-359.0291\"/>\n</g>\n<!-- 3 -->\n<g id=\"node4\" class=\"node\">\n<title>3</title>\n<path fill=\"#f3c5a3\" stroke=\"#000000\" d=\"M382,-357.5C382,-357.5 230,-357.5 230,-357.5 224,-357.5 218,-351.5 218,-345.5 218,-345.5 218,-316.5 218,-316.5 218,-310.5 224,-304.5 230,-304.5 230,-304.5 382,-304.5 382,-304.5 388,-304.5 394,-310.5 394,-316.5 394,-316.5 394,-345.5 394,-345.5 394,-351.5 388,-357.5 382,-357.5\"/>\n<text text-anchor=\"middle\" x=\"306\" y=\"-342.3\" font-family=\"Helvetica,sans-Serif\" font-size=\"14.00\" fill=\"#000000\">samples = 27.7%</text>\n<text text-anchor=\"middle\" x=\"306\" y=\"-327.3\" font-family=\"Helvetica,sans-Serif\" font-size=\"14.00\" fill=\"#000000\">value = [0.63, 0.06, 0.31]</text>\n<text text-anchor=\"middle\" x=\"306\" y=\"-312.3\" font-family=\"Helvetica,sans-Serif\" font-size=\"14.00\" fill=\"#000000\">class = functional</text>\n</g>\n<!-- 1&#45;&gt;3 -->\n<g id=\"edge3\" class=\"edge\">\n<title>1&#45;&gt;3</title>\n<path fill=\"none\" stroke=\"#000000\" d=\"M302.6372,-400.9465C303.1509,-390.2621 303.7199,-378.4254 304.2416,-367.5742\"/>\n<polygon fill=\"#000000\" stroke=\"#000000\" points=\"307.7396,-367.6987 304.7239,-357.5422 300.7477,-367.3625 307.7396,-367.6987\"/>\n</g>\n<!-- 5 -->\n<g id=\"node6\" class=\"node\">\n<title>5</title>\n<path fill=\"#9d66eb\" stroke=\"#000000\" d=\"M601,-357.5C601,-357.5 433,-357.5 433,-357.5 427,-357.5 421,-351.5 421,-345.5 421,-345.5 421,-316.5 421,-316.5 421,-310.5 427,-304.5 433,-304.5 433,-304.5 601,-304.5 601,-304.5 607,-304.5 613,-310.5 613,-316.5 613,-316.5 613,-345.5 613,-345.5 613,-351.5 607,-357.5 601,-357.5\"/>\n<text text-anchor=\"middle\" x=\"517\" y=\"-342.3\" font-family=\"Helvetica,sans-Serif\" font-size=\"14.00\" fill=\"#000000\">samples = 10.9%</text>\n<text text-anchor=\"middle\" x=\"517\" y=\"-327.3\" font-family=\"Helvetica,sans-Serif\" font-size=\"14.00\" fill=\"#000000\">value = [0.159, 0.031, 0.81]</text>\n<text text-anchor=\"middle\" x=\"517\" y=\"-312.3\" font-family=\"Helvetica,sans-Serif\" font-size=\"14.00\" fill=\"#000000\">class = non functional</text>\n</g>\n<!-- 4&#45;&gt;5 -->\n<g id=\"edge5\" class=\"edge\">\n<title>4&#45;&gt;5</title>\n<path fill=\"none\" stroke=\"#000000\" d=\"M519.6903,-400.9465C519.2793,-390.2621 518.8241,-378.4254 518.4067,-367.5742\"/>\n<polygon fill=\"#000000\" stroke=\"#000000\" points=\"521.9027,-367.4002 518.0209,-357.5422 514.9079,-367.6693 521.9027,-367.4002\"/>\n</g>\n<!-- 6 -->\n<g id=\"node7\" class=\"node\">\n<title>6</title>\n<path fill=\"#fdf7f2\" stroke=\"#000000\" d=\"M821,-365C821,-365 643,-365 643,-365 637,-365 631,-359 631,-353 631,-353 631,-309 631,-309 631,-303 637,-297 643,-297 643,-297 821,-297 821,-297 827,-297 833,-303 833,-309 833,-309 833,-353 833,-353 833,-359 827,-365 821,-365\"/>\n<text text-anchor=\"middle\" x=\"732\" y=\"-349.8\" font-family=\"Helvetica,sans-Serif\" font-size=\"14.00\" fill=\"#000000\">extraction_type_class &lt;= 4.5</text>\n<text text-anchor=\"middle\" x=\"732\" y=\"-334.8\" font-family=\"Helvetica,sans-Serif\" font-size=\"14.00\" fill=\"#000000\">samples = 16.2%</text>\n<text text-anchor=\"middle\" x=\"732\" y=\"-319.8\" font-family=\"Helvetica,sans-Serif\" font-size=\"14.00\" fill=\"#000000\">value = [0.497, 0.043, 0.46]</text>\n<text text-anchor=\"middle\" x=\"732\" y=\"-304.8\" font-family=\"Helvetica,sans-Serif\" font-size=\"14.00\" fill=\"#000000\">class = functional</text>\n</g>\n<!-- 4&#45;&gt;6 -->\n<g id=\"edge6\" class=\"edge\">\n<title>4&#45;&gt;6</title>\n<path fill=\"none\" stroke=\"#000000\" d=\"M590.0893,-400.9465C610.4002,-390.9354 632.7633,-379.9129 653.6112,-369.6371\"/>\n<polygon fill=\"#000000\" stroke=\"#000000\" points=\"655.3332,-372.6905 662.7555,-365.13 652.2385,-366.4117 655.3332,-372.6905\"/>\n</g>\n<!-- 7 -->\n<g id=\"node8\" class=\"node\">\n<title>7</title>\n<path fill=\"#d8c1f7\" stroke=\"#000000\" d=\"M710,-253.5C710,-253.5 534,-253.5 534,-253.5 528,-253.5 522,-247.5 522,-241.5 522,-241.5 522,-212.5 522,-212.5 522,-206.5 528,-200.5 534,-200.5 534,-200.5 710,-200.5 710,-200.5 716,-200.5 722,-206.5 722,-212.5 722,-212.5 722,-241.5 722,-241.5 722,-247.5 716,-253.5 710,-253.5\"/>\n<text text-anchor=\"middle\" x=\"622\" y=\"-238.3\" font-family=\"Helvetica,sans-Serif\" font-size=\"14.00\" fill=\"#000000\">samples = 5.0%</text>\n<text text-anchor=\"middle\" x=\"622\" y=\"-223.3\" font-family=\"Helvetica,sans-Serif\" font-size=\"14.00\" fill=\"#000000\">value = [0.381, 0.045, 0.574]</text>\n<text text-anchor=\"middle\" x=\"622\" y=\"-208.3\" font-family=\"Helvetica,sans-Serif\" font-size=\"14.00\" fill=\"#000000\">class = non functional</text>\n</g>\n<!-- 6&#45;&gt;7 -->\n<g id=\"edge7\" class=\"edge\">\n<title>6&#45;&gt;7</title>\n<path fill=\"none\" stroke=\"#000000\" d=\"M695.9819,-296.9465C683.6325,-285.2707 669.8278,-272.219 657.5183,-260.5809\"/>\n<polygon fill=\"#000000\" stroke=\"#000000\" points=\"659.7445,-257.869 650.0734,-253.5422 654.9354,-262.9556 659.7445,-257.869\"/>\n</g>\n<!-- 8 -->\n<g id=\"node9\" class=\"node\">\n<title>8</title>\n<path fill=\"#f9e2d1\" stroke=\"#000000\" d=\"M930,-261C930,-261 752,-261 752,-261 746,-261 740,-255 740,-249 740,-249 740,-205 740,-205 740,-199 746,-193 752,-193 752,-193 930,-193 930,-193 936,-193 942,-199 942,-205 942,-205 942,-249 942,-249 942,-255 936,-261 930,-261\"/>\n<text text-anchor=\"middle\" x=\"841\" y=\"-245.8\" font-family=\"Helvetica,sans-Serif\" font-size=\"14.00\" fill=\"#000000\">extraction_type_class &lt;= 5.5</text>\n<text text-anchor=\"middle\" x=\"841\" y=\"-230.8\" font-family=\"Helvetica,sans-Serif\" font-size=\"14.00\" fill=\"#000000\">samples = 11.2%</text>\n<text text-anchor=\"middle\" x=\"841\" y=\"-215.8\" font-family=\"Helvetica,sans-Serif\" font-size=\"14.00\" fill=\"#000000\">value = [0.548, 0.042, 0.41]</text>\n<text text-anchor=\"middle\" x=\"841\" y=\"-200.8\" font-family=\"Helvetica,sans-Serif\" font-size=\"14.00\" fill=\"#000000\">class = functional</text>\n</g>\n<!-- 6&#45;&gt;8 -->\n<g id=\"edge8\" class=\"edge\">\n<title>6&#45;&gt;8</title>\n<path fill=\"none\" stroke=\"#000000\" d=\"M767.6907,-296.9465C777.2891,-287.7884 787.7747,-277.7838 797.7366,-268.2788\"/>\n<polygon fill=\"#000000\" stroke=\"#000000\" points=\"800.4102,-270.5655 805.2291,-261.13 795.5779,-265.5009 800.4102,-270.5655\"/>\n</g>\n<!-- 9 -->\n<g id=\"node10\" class=\"node\">\n<title>9</title>\n<path fill=\"#f9e4d5\" stroke=\"#000000\" d=\"M819,-149.5C819,-149.5 643,-149.5 643,-149.5 637,-149.5 631,-143.5 631,-137.5 631,-137.5 631,-108.5 631,-108.5 631,-102.5 637,-96.5 643,-96.5 643,-96.5 819,-96.5 819,-96.5 825,-96.5 831,-102.5 831,-108.5 831,-108.5 831,-137.5 831,-137.5 831,-143.5 825,-149.5 819,-149.5\"/>\n<text text-anchor=\"middle\" x=\"731\" y=\"-134.3\" font-family=\"Helvetica,sans-Serif\" font-size=\"14.00\" fill=\"#000000\">samples = 10.3%</text>\n<text text-anchor=\"middle\" x=\"731\" y=\"-119.3\" font-family=\"Helvetica,sans-Serif\" font-size=\"14.00\" fill=\"#000000\">value = [0.541, 0.042, 0.416]</text>\n<text text-anchor=\"middle\" x=\"731\" y=\"-104.3\" font-family=\"Helvetica,sans-Serif\" font-size=\"14.00\" fill=\"#000000\">class = functional</text>\n</g>\n<!-- 8&#45;&gt;9 -->\n<g id=\"edge9\" class=\"edge\">\n<title>8&#45;&gt;9</title>\n<path fill=\"none\" stroke=\"#000000\" d=\"M804.9819,-192.9465C792.6325,-181.2707 778.8278,-168.219 766.5183,-156.5809\"/>\n<polygon fill=\"#000000\" stroke=\"#000000\" points=\"768.7445,-153.869 759.0734,-149.5422 763.9354,-158.9556 768.7445,-153.869\"/>\n</g>\n<!-- 10 -->\n<g id=\"node11\" class=\"node\">\n<title>10</title>\n<path fill=\"#f4cbad\" stroke=\"#000000\" d=\"M1039,-157C1039,-157 861,-157 861,-157 855,-157 849,-151 849,-145 849,-145 849,-101 849,-101 849,-95 855,-89 861,-89 861,-89 1039,-89 1039,-89 1045,-89 1051,-95 1051,-101 1051,-101 1051,-145 1051,-145 1051,-151 1045,-157 1039,-157\"/>\n<text text-anchor=\"middle\" x=\"950\" y=\"-141.8\" font-family=\"Helvetica,sans-Serif\" font-size=\"14.00\" fill=\"#000000\">extraction_type_class &lt;= 6.5</text>\n<text text-anchor=\"middle\" x=\"950\" y=\"-126.8\" font-family=\"Helvetica,sans-Serif\" font-size=\"14.00\" fill=\"#000000\">samples = 0.9%</text>\n<text text-anchor=\"middle\" x=\"950\" y=\"-111.8\" font-family=\"Helvetica,sans-Serif\" font-size=\"14.00\" fill=\"#000000\">value = [0.614, 0.043, 0.343]</text>\n<text text-anchor=\"middle\" x=\"950\" y=\"-96.8\" font-family=\"Helvetica,sans-Serif\" font-size=\"14.00\" fill=\"#000000\">class = functional</text>\n</g>\n<!-- 8&#45;&gt;10 -->\n<g id=\"edge10\" class=\"edge\">\n<title>8&#45;&gt;10</title>\n<path fill=\"none\" stroke=\"#000000\" d=\"M876.6907,-192.9465C886.2891,-183.7884 896.7747,-173.7838 906.7366,-164.2788\"/>\n<polygon fill=\"#000000\" stroke=\"#000000\" points=\"909.4102,-166.5655 914.2291,-157.13 904.5779,-161.5009 909.4102,-166.5655\"/>\n</g>\n<!-- 11 -->\n<g id=\"node12\" class=\"node\">\n<title>11</title>\n<path fill=\"#f2bf9b\" stroke=\"#000000\" d=\"M929,-53C929,-53 753,-53 753,-53 747,-53 741,-47 741,-41 741,-41 741,-12 741,-12 741,-6 747,0 753,0 753,0 929,0 929,0 935,0 941,-6 941,-12 941,-12 941,-41 941,-41 941,-47 935,-53 929,-53\"/>\n<text text-anchor=\"middle\" x=\"841\" y=\"-37.8\" font-family=\"Helvetica,sans-Serif\" font-size=\"14.00\" fill=\"#000000\">samples = 0.7%</text>\n<text text-anchor=\"middle\" x=\"841\" y=\"-22.8\" font-family=\"Helvetica,sans-Serif\" font-size=\"14.00\" fill=\"#000000\">value = [0.657, 0.037, 0.306]</text>\n<text text-anchor=\"middle\" x=\"841\" y=\"-7.8\" font-family=\"Helvetica,sans-Serif\" font-size=\"14.00\" fill=\"#000000\">class = functional</text>\n</g>\n<!-- 10&#45;&gt;11 -->\n<g id=\"edge11\" class=\"edge\">\n<title>10&#45;&gt;11</title>\n<path fill=\"none\" stroke=\"#000000\" d=\"M911.5707,-88.9777C900.9173,-79.546 889.3641,-69.3178 878.7499,-59.9208\"/>\n<polygon fill=\"#000000\" stroke=\"#000000\" points=\"881.0207,-57.2566 871.2133,-53.2485 876.3806,-62.4978 881.0207,-57.2566\"/>\n</g>\n<!-- 12 -->\n<g id=\"node13\" class=\"node\">\n<title>12</title>\n<path fill=\"#f8f3fd\" stroke=\"#000000\" d=\"M1147,-53C1147,-53 971,-53 971,-53 965,-53 959,-47 959,-41 959,-41 959,-12 959,-12 959,-6 965,0 971,0 971,0 1147,0 1147,0 1153,0 1159,-6 1159,-12 1159,-12 1159,-41 1159,-41 1159,-47 1153,-53 1147,-53\"/>\n<text text-anchor=\"middle\" x=\"1059\" y=\"-37.8\" font-family=\"Helvetica,sans-Serif\" font-size=\"14.00\" fill=\"#000000\">samples = 0.2%</text>\n<text text-anchor=\"middle\" x=\"1059\" y=\"-22.8\" font-family=\"Helvetica,sans-Serif\" font-size=\"14.00\" fill=\"#000000\">value = [0.452, 0.065, 0.484]</text>\n<text text-anchor=\"middle\" x=\"1059\" y=\"-7.8\" font-family=\"Helvetica,sans-Serif\" font-size=\"14.00\" fill=\"#000000\">class = non functional</text>\n</g>\n<!-- 10&#45;&gt;12 -->\n<g id=\"edge12\" class=\"edge\">\n<title>10&#45;&gt;12</title>\n<path fill=\"none\" stroke=\"#000000\" d=\"M988.4293,-88.9777C999.0827,-79.546 1010.6359,-69.3178 1021.2501,-59.9208\"/>\n<polygon fill=\"#000000\" stroke=\"#000000\" points=\"1023.6194,-62.4978 1028.7867,-53.2485 1018.9793,-57.2566 1023.6194,-62.4978\"/>\n</g>\n</g>\n</svg>\n"
          },
          "metadata": {
            "tags": []
          }
        }
      ]
    },
    {
      "cell_type": "markdown",
      "metadata": {
        "colab_type": "text",
        "id": "P4EJi2GvgLVa"
      },
      "source": [
        "# Understand how tree ensembles reduce overfitting compared to a single decision tree with unlimited depth"
      ]
    },
    {
      "cell_type": "markdown",
      "metadata": {
        "id": "rq0psa2UN9WU",
        "colab_type": "text"
      },
      "source": [
        "## Overview"
      ]
    },
    {
      "cell_type": "markdown",
      "metadata": {
        "colab_type": "text",
        "id": "0nNABF3HgLVg"
      },
      "source": [
        "### What's \"random\" about random forests?\n",
        "1. Each tree trains on a random bootstrap sample of the data. (In scikit-learn, for `RandomForestRegressor` and `RandomForestClassifier`, the `bootstrap` parameter's default is `True`.) This type of ensembling is called Bagging. (Bootstrap AGGregatING.)\n",
        "2. Each split considers a random subset of the features. (In scikit-learn, when the `max_features` parameter is not `None`.) \n",
        "\n",
        "For extra randomness, you can try [\"extremely randomized trees\"](https://scikit-learn.org/stable/modules/ensemble.html#extremely-randomized-trees)!\n",
        "\n",
        ">In extremely randomized trees (see [ExtraTreesClassifier](https://scikit-learn.org/stable/modules/generated/sklearn.ensemble.ExtraTreesClassifier.html) and [ExtraTreesRegressor](https://scikit-learn.org/stable/modules/generated/sklearn.ensemble.ExtraTreesRegressor.html) classes), randomness goes one step further in the way splits are computed. As in random forests, a random subset of candidate features is used, but instead of looking for the most discriminative thresholds, thresholds are drawn at random for each candidate feature and the best of these randomly-generated thresholds is picked as the splitting rule. This usually allows to reduce the variance of the model a bit more, at the expense of a slightly greater increase in bias"
      ]
    },
    {
      "cell_type": "markdown",
      "metadata": {
        "id": "S28-JCE8N9WV",
        "colab_type": "text"
      },
      "source": [
        "## Follow Along"
      ]
    },
    {
      "cell_type": "markdown",
      "metadata": {
        "colab_type": "text",
        "id": "pUYP619CgLVb"
      },
      "source": [
        "### Example: [predicting golf putts](https://statmodeling.stat.columbia.edu/2008/12/04/the_golf_puttin/)\n",
        "(1 feature, non-linear, regression)"
      ]
    },
    {
      "cell_type": "code",
      "metadata": {
        "colab_type": "code",
        "id": "b4640ukxgLVc",
        "colab": {}
      },
      "source": [
        "putts = pd.DataFrame(\n",
        "    columns=['distance', 'tries', 'successes'], \n",
        "    data = [[2, 1443, 1346],\n",
        "            [3, 694, 577],\n",
        "            [4, 455, 337],\n",
        "            [5, 353, 208],\n",
        "            [6, 272, 149],\n",
        "            [7, 256, 136],\n",
        "            [8, 240, 111],\n",
        "            [9, 217, 69],\n",
        "            [10, 200, 67],\n",
        "            [11, 237, 75],\n",
        "            [12, 202, 52],\n",
        "            [13, 192, 46],\n",
        "            [14, 174, 54],\n",
        "            [15, 167, 28],\n",
        "            [16, 201, 27],\n",
        "            [17, 195, 31],\n",
        "            [18, 191, 33],\n",
        "            [19, 147, 20],\n",
        "            [20, 152, 24]]\n",
        ")\n",
        "\n",
        "putts['rate of success'] = putts['successes'] / putts['tries']\n",
        "putts_X = putts[['distance']]\n",
        "putts_y = putts['rate of success']"
      ],
      "execution_count": 55,
      "outputs": []
    },
    {
      "cell_type": "code",
      "metadata": {
        "colab_type": "code",
        "id": "T0IpCcKggLVd",
        "colab": {
          "base_uri": "https://localhost:8080/",
          "height": 638,
          "referenced_widgets": [
            "a52799a0b04744298421b668f1dd0d9e",
            "0da610e2b65a4fb3a2efe2b529766761",
            "565afb1ada384cecb432e0e4a19b64e1",
            "63ce0d1bc2644c24b60cc0e83c2e69cc",
            "966c3d4520c94cf9bd98a0b200e011c7",
            "303a7f7b636a4717889e01123cbb66e6",
            "5f6f40f843f7403ca3d373b4314bc89a",
            "0b1ae977c6114522acf3091a47b9ee8c",
            "c09fa1b617834a5fb825a3d68548d920",
            "a33f8155513f47d5ae25be513487348c"
          ]
        },
        "outputId": "2b89fee7-4085-4846-9b73-9668db1bac8e"
      },
      "source": [
        "%matplotlib inline\n",
        "import matplotlib.pyplot as plt\n",
        "from ipywidgets import interact\n",
        "from sklearn.ensemble import RandomForestRegressor\n",
        "from sklearn.tree import DecisionTreeRegressor\n",
        "\n",
        "def putt_trees(max_depth=1, n_estimators=1):\n",
        "    models = [DecisionTreeRegressor(max_depth=max_depth), \n",
        "              RandomForestRegressor(max_depth=max_depth, n_estimators=n_estimators)]\n",
        "    \n",
        "    for model in models:\n",
        "        name = model.__class__.__name__\n",
        "        model.fit(putts_X, putts_y)\n",
        "        ax = putts.plot('distance', 'rate of success', kind='scatter', title=name)\n",
        "        ax.step(putts_X, model.predict(putts_X), where='mid')\n",
        "        plt.show()\n",
        "        \n",
        "interact(putt_trees, max_depth=(1,6,1), n_estimators=(10,40,10));"
      ],
      "execution_count": 56,
      "outputs": [
        {
          "output_type": "display_data",
          "data": {
            "application/vnd.jupyter.widget-view+json": {
              "model_id": "a52799a0b04744298421b668f1dd0d9e",
              "version_minor": 0,
              "version_major": 2
            },
            "text/plain": [
              "interactive(children=(IntSlider(value=1, description='max_depth', max=6, min=1), IntSlider(value=10, descripti…"
            ]
          },
          "metadata": {
            "tags": []
          }
        }
      ]
    },
    {
      "cell_type": "markdown",
      "metadata": {
        "colab_type": "text",
        "id": "rq4Z_wQ_gLVj"
      },
      "source": [
        "### Go back to Tanzania Waterpumps ..."
      ]
    },
    {
      "cell_type": "markdown",
      "metadata": {
        "colab_type": "text",
        "id": "FoSE9iT6YXQz"
      },
      "source": [
        "#### Helper function to visualize predicted probabilities\n",
        "\n"
      ]
    },
    {
      "cell_type": "code",
      "metadata": {
        "colab_type": "code",
        "id": "HzIAjGpJgLVj",
        "colab": {}
      },
      "source": [
        "import itertools\n",
        "import seaborn as sns\n",
        "\n",
        "def pred_heatmap(model, X, features, class_index=-1, title='', num=100):\n",
        "    \"\"\"\n",
        "    Visualize predicted probabilities, for classifier fit on 2 numeric features\n",
        "    \n",
        "    Parameters\n",
        "    ----------\n",
        "    model : scikit-learn classifier, already fit\n",
        "    X : pandas dataframe, which was used to fit model\n",
        "    features : list of strings, column names of the 2 numeric features\n",
        "    class_index : integer, index of class label\n",
        "    title : string, title of plot\n",
        "    num : int, number of grid points for each feature\n",
        "    \n",
        "    Returns\n",
        "    -------\n",
        "    y_pred_proba : numpy array, predicted probabilities for class_index\n",
        "    \"\"\"\n",
        "    feature1, feature2 = features\n",
        "    min1, max1 = X[feature1].min(), X[feature1].max()\n",
        "    min2, max2 = X[feature2].min(), X[feature2].max()\n",
        "    x1 = np.linspace(min1, max1, num)\n",
        "    x2 = np.linspace(max2, min2, num)\n",
        "    combos = list(itertools.product(x1, x2))\n",
        "    y_pred_proba = model.predict_proba(combos)[:, class_index]\n",
        "    pred_grid = y_pred_proba.reshape(num, num).T\n",
        "    table = pd.DataFrame(pred_grid, columns=x1, index=x2)\n",
        "    sns.heatmap(table, vmin=0, vmax=1)\n",
        "    plt.xticks([])\n",
        "    plt.yticks([])\n",
        "    plt.xlabel(feature1)\n",
        "    plt.ylabel(feature2)\n",
        "    plt.title(title)\n",
        "    plt.show()\n",
        "    return y_pred_proba\n"
      ],
      "execution_count": 57,
      "outputs": []
    },
    {
      "cell_type": "markdown",
      "metadata": {
        "colab_type": "text",
        "id": "DiRfPqHjgLVl"
      },
      "source": [
        "### Compare Decision Tree, Random Forest, Logistic Regression"
      ]
    },
    {
      "cell_type": "code",
      "metadata": {
        "colab_type": "code",
        "id": "HKkMLXhMgLVl",
        "colab": {
          "base_uri": "https://localhost:8080/",
          "height": 864,
          "referenced_widgets": [
            "02094557f2174e93a6b71c55e2ff3e20",
            "bd9895957e804990bb756f0fc47ce390",
            "70b1bcfe276e454692ed83ad14e47bde",
            "83ff71ada61b4eb6b64e032e9e35ad3a",
            "be4f788930214378bcee8a2b6c92bf32",
            "82af01f422a74ea59e07a722da2819e4",
            "cdd28e363cc04e0e9bd8765917909f04",
            "571a57a42e3544839fae8ceba105cd76",
            "513aeb99f1f64381a3b53e4afe6dd201",
            "14177cb0c9754334a03b9c4790caf016"
          ]
        },
        "outputId": "3f93e0b5-51b7-4723-b539-77c1164a302c"
      },
      "source": [
        "# Instructions\n",
        "# 1. Choose two features\n",
        "# 2. Run this code cell\n",
        "# 3. Interact with the widget sliders\n",
        "feature1 = 'longitude'\n",
        "feature2 = 'quantity'\n",
        "\n",
        "from sklearn.linear_model import LogisticRegression\n",
        "from sklearn.tree import DecisionTreeClassifier\n",
        "\n",
        "def get_X_y(df, feature1, feature2, target):\n",
        "    features = [feature1, feature2]\n",
        "    X = df[features]\n",
        "    y = df[target]\n",
        "    X = X.fillna(X.median())\n",
        "    X = ce.OrdinalEncoder().fit_transform(X)\n",
        "    return X, y\n",
        "\n",
        "def compare_models(max_depth=1, n_estimators=1):\n",
        "    models = [DecisionTreeClassifier(max_depth=max_depth), \n",
        "              RandomForestClassifier(max_depth=max_depth, n_estimators=n_estimators), \n",
        "              LogisticRegression(solver='lbfgs', multi_class='auto')]\n",
        "    \n",
        "    for model in models:\n",
        "        name = model.__class__.__name__\n",
        "        model.fit(X, y)\n",
        "        pred_heatmap(model, X, [feature1, feature2], class_index=0, title=name)\n",
        "\n",
        "X, y = get_X_y(train, feature1, feature2, target='status_group')\n",
        "interact(compare_models, max_depth=(1,6,1), n_estimators=(10,40,10));"
      ],
      "execution_count": 58,
      "outputs": [
        {
          "output_type": "display_data",
          "data": {
            "application/vnd.jupyter.widget-view+json": {
              "model_id": "02094557f2174e93a6b71c55e2ff3e20",
              "version_minor": 0,
              "version_major": 2
            },
            "text/plain": [
              "interactive(children=(IntSlider(value=1, description='max_depth', max=6, min=1), IntSlider(value=10, descripti…"
            ]
          },
          "metadata": {
            "tags": []
          }
        }
      ]
    },
    {
      "cell_type": "markdown",
      "metadata": {
        "colab_type": "text",
        "id": "hOQqjLEDgLVn"
      },
      "source": [
        "### Bagging"
      ]
    },
    {
      "cell_type": "code",
      "metadata": {
        "colab_type": "code",
        "id": "Hm4aPgs2gLVn",
        "colab": {
          "base_uri": "https://localhost:8080/",
          "height": 864,
          "referenced_widgets": [
            "35e2302c2afe4d249a1b1cf2cc72303d",
            "fa70774da44148debd9edd19a25d5455",
            "56bfe009074b43e797b11e333ab6d4c3",
            "7b97ac92479f44b0bae281e00369f122",
            "4627ba4f976641979826c2efaa47d816",
            "9894f99378a74ec1a12d8fbc4e9b196e",
            "3b39acaf32454d78866bd71d198ad78c",
            "7163cdaa426b4e68be208da238723bd9",
            "7d6d006afa6d4952b6bfb3431bfcb9d7",
            "2aaff988d74b4db09284e9ebcfa466e5"
          ]
        },
        "outputId": "d45a1ca6-50ed-46f1-aa32-aa42564de107"
      },
      "source": [
        "# Do-it-yourself Bagging Ensemble of Decision Trees (like a Random Forest)\n",
        "\n",
        "# Instructions\n",
        "# 1. Choose two features\n",
        "# 2. Run this code cell\n",
        "# 3. Interact with the widget sliders\n",
        "\n",
        "feature1 = 'longitude'\n",
        "feature2 = 'latitude'\n",
        "\n",
        "def waterpumps_bagging(max_depth=1, n_estimators=1):\n",
        "    predicteds = []\n",
        "    for i in range(n_estimators):\n",
        "        title = f'Tree {i+1}'\n",
        "        bootstrap_sample = train.sample(n=len(train), replace=True)\n",
        "        X, y = get_X_y(bootstrap_sample, feature1, feature2, target='status_group')\n",
        "        tree = DecisionTreeClassifier(max_depth=max_depth)\n",
        "        tree.fit(X, y)\n",
        "        predicted = pred_heatmap(tree, X, [feature1, feature2], class_index=0, title=title)\n",
        "        predicteds.append(predicted)\n",
        "    \n",
        "    ensembled = np.vstack(predicteds).mean(axis=0)\n",
        "    title = f'Ensemble of {n_estimators} trees, with max_depth={max_depth}'\n",
        "    sns.heatmap(ensembled.reshape(100, 100).T, vmin=0, vmax=1)\n",
        "    plt.title(title)\n",
        "    plt.xlabel(feature1)\n",
        "    plt.ylabel(feature2)\n",
        "    plt.xticks([])\n",
        "    plt.yticks([])\n",
        "    plt.show()\n",
        "        \n",
        "interact(waterpumps_bagging, max_depth=(1,6,1), n_estimators=(2,5,1));"
      ],
      "execution_count": 59,
      "outputs": [
        {
          "output_type": "display_data",
          "data": {
            "application/vnd.jupyter.widget-view+json": {
              "model_id": "35e2302c2afe4d249a1b1cf2cc72303d",
              "version_minor": 0,
              "version_major": 2
            },
            "text/plain": [
              "interactive(children=(IntSlider(value=1, description='max_depth', max=6, min=1), IntSlider(value=2, descriptio…"
            ]
          },
          "metadata": {
            "tags": []
          }
        }
      ]
    },
    {
      "cell_type": "markdown",
      "metadata": {
        "colab_type": "text",
        "id": "wYoSBi15akWP"
      },
      "source": [
        "# Review\n",
        "\n",
        "#### Try Tree Ensembles when you do machine learning with labeled, tabular data\n",
        "- \"Tree Ensembles\" means Random Forest or Gradient Boosting models. \n",
        "- [Tree Ensembles often have the best predictive accuracy](https://arxiv.org/abs/1708.05070) with labeled, tabular data.\n",
        "- Why? Because trees can fit non-linear, non-[monotonic](https://en.wikipedia.org/wiki/Monotonic_function) relationships, and [interactions](https://christophm.github.io/interpretable-ml-book/interaction.html) between features.\n",
        "- A single decision tree, grown to unlimited depth, will [overfit](http://www.r2d3.us/visual-intro-to-machine-learning-part-1/). We solve this problem by ensembling trees, with bagging (Random Forest) or boosting (Gradient Boosting).\n",
        "- Random Forest's advantage: may be less sensitive to hyperparameters. Gradient Boosting's advantage: may get better predictive accuracy.\n",
        "\n",
        "#### One-hot encoding isn’t the only way, and may not be the best way, of categorical encoding for tree ensembles.\n",
        "- For example, tree ensembles can work with arbitrary \"ordinal\" encoding! (Randomly assigning an integer to each category.) Compared to one-hot encoding, the dimensionality will be lower, and the predictive accuracy may be just as good or even better.\n"
      ]
    }
  ]
}
